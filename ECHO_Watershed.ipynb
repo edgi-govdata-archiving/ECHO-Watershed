{
 "cells": [
  {
   "cell_type": "markdown",
   "metadata": {
    "id": "Ylalhm0wbt2p"
   },
   "source": [
    "| ![EEW logo](https://github.com/edgi-govdata-archiving/EEW-Image-Assets/blob/master/Jupyter%20instructions/eew.jpg?raw=true) | ![EDGI logo](https://github.com/edgi-govdata-archiving/EEW-Image-Assets/blob/master/Jupyter%20instructions/edgi.png?raw=true) |\n",
    "|---|---|\n",
    "\n",
    "#### This notebook is licensed under GPL 3.0. Please visit our Github repo for more information: \n",
    "#### The notebook was collaboratively authored by the Environmental Data & Governance Initiative (EDGI) following our authorship protocol: https://docs.google.com/document/d/1CtDN5ZZ4Zv70fHiBTmWkDJ9mswEipX6eCYrwicP66Xw/\n",
    "#### For more information about this project, visit https://www.environmentalenforcementwatch.org/"
   ]
  },
  {
   "cell_type": "markdown",
   "metadata": {
    "id": "xwpXPiNLbt2x"
   },
   "source": [
    "## How to Run this Notebook\n",
    "* If you click on a gray **code** cell, a little “play button” arrow appears on the left. If you click the play button, it will run the code in that cell (“**running** a cell”). The button will animate. When the animation stops, the cell has finished running.\n",
    "![Where to click to run the cell](https://github.com/edgi-govdata-archiving/EEW-Image-Assets/blob/master/Jupyter%20instructions/pressplay.JPG?raw=true)\n",
    "* You may get a warning that the notebook was not authored by Google. We know, we authored them! It’s okay. Click “Run Anyway” to continue. \n",
    "![Error Message](https://github.com/edgi-govdata-archiving/EEW-Image-Assets/blob/master/Jupyter%20instructions/warning-message.JPG?raw=true)\n",
    "* Run all of the cells in a Notebook to make a complete report. Please feel free to look at and **learn about each result as you create it**!\n",
    "\n",
    "---"
   ]
  },
  {
   "cell_type": "markdown",
   "metadata": {
    "id": "vU4AqThS-37L"
   },
   "source": [
    "# Watershed statistics from ECHO"
   ]
  },
  {
   "cell_type": "markdown",
   "metadata": {
    "id": "czia5t5ebt20"
   },
   "source": [
    "Here we load some helper code to get us going. If your environment already has these loaded this cell may be skipped."
   ]
  },
  {
   "cell_type": "code",
   "execution_count": null,
   "metadata": {
    "id": "vF3iTaeCbt23",
    "scrolled": true
   },
   "outputs": [],
   "source": [
    "!git clone https://github.com/edgi-govdata-archiving/ECHO_modules.git -b watershed-geo\n",
    "!pip install geopandas\n",
    "!pip install topojson\n",
    "\n",
    "print(\"Done!\")"
   ]
  },
  {
   "cell_type": "markdown",
   "metadata": {},
   "source": [
    "This cell must be run to bring in some utility functions."
   ]
  },
  {
   "cell_type": "code",
   "execution_count": null,
   "metadata": {},
   "outputs": [],
   "source": [
    "import geopandas as geopandas\n",
    "import topojson as tp\n",
    "\n",
    "%run ECHO_modules/DataSet.py\n",
    "%run ECHO_modules/utilities.py\n",
    "%run ECHO_modules/make_data_sets.py\n",
    "print(\"Done!\")"
   ]
  },
  {
   "cell_type": "markdown",
   "metadata": {
    "id": "We7JGCaxWIFF"
   },
   "source": [
    "Select the state you want to look more closely at.  Multiple states may be selected, but this should be used judiciously as it can greatly increase the amount of data and the time to load it.\n",
    "Ctrl + Click adds to the current selection.  Shift + Click extends the selection."
   ]
  },
  {
   "cell_type": "code",
   "execution_count": null,
   "metadata": {
    "id": "uSnqlusE2-A8"
   },
   "outputs": [],
   "source": [
    "from ECHO_modules import geographies\n",
    "\n",
    "states_w = widgets.SelectMultiple(\n",
    "    options=states,\n",
    "    description='State:',\n",
    "    disabled=False,\n",
    ")\n",
    "states_w"
   ]
  },
  {
   "cell_type": "markdown",
   "metadata": {
    "id": "8kx5TlXdWOUm"
   },
   "source": [
    "Run this cell to load watershed data. It may take some time depending on the state you're looking at!"
   ]
  },
  {
   "cell_type": "code",
   "execution_count": null,
   "metadata": {
    "id": "Ai3AckBP-zRV",
    "scrolled": true
   },
   "outputs": [],
   "source": [
    "states_selected = ' WHERE'\n",
    "for st in states_w.value:\n",
    "    states_selected += ' \"states\" LIKE \\'%'+st+'%\\' OR'\n",
    "states_selected = states_selected[:-3]\n",
    "\n",
    "# Load data from SBU database\n",
    "# https://gis.stackexchange.com/questions/112057/sql-query-to-have-a-complete-geojson-feature-from-postgis\n",
    "sql = \"\"\"\n",
    "    SELECT jsonb_build_object(\n",
    "        'type', 'FeatureCollection', 'features', jsonb_agg(features.feature)\n",
    "    )\n",
    "    FROM (\n",
    "        SELECT jsonb_build_object(\n",
    "            'type', 'Feature','id', gid, 'geometry',\n",
    "            ST_AsGeoJSON(geom)::jsonb,'properties',\n",
    "            to_jsonb(inputs) - 'gid' - 'geom'\n",
    "        ) AS feature\n",
    "        FROM (\n",
    "            SELECT *\n",
    "            FROM \"wbdhu8\"\n",
    "\"\"\"\n",
    "sql += states_selected\n",
    "sql += \"\"\"\n",
    "        ) inputs\n",
    "    ) features;\n",
    "\"\"\"\n",
    "#             WHERE \"states\" IN ( \"\"\" + states_selected + \"\"\" )\n",
    "\n",
    "url= 'http://portal.gss.stonybrook.edu/echoepa/index2.php?query=' # Old server: 'http://apps.tlt.stonybrook.edu/echoepa/index2.php?query='\n",
    "data_location=url+urllib.parse.quote_plus(sql) + '&pg'\n",
    "print(sql) # For debugging\n",
    "print(data_location) # For debugging\n",
    "gdf=None\n",
    "try:\n",
    "  gdf = geopandas.read_file(data_location)\n",
    "  print(\"Data loaded. Now to map it!\")\n",
    "except:\n",
    "  print('Something went wrong!')"
   ]
  },
  {
   "cell_type": "markdown",
   "metadata": {
    "id": "YEag5jFMWTAm"
   },
   "source": [
    "Map the watersheds in this state. It may take some time depending on the state you're looking at! It may also \"disconnect\" if there are a lot of watersheds. Still, you can just skip to the next step (\"Pick a specific watershed...\")"
   ]
  },
  {
   "cell_type": "code",
   "execution_count": null,
   "metadata": {
    "id": "ZXXi-rF6KmED",
    "scrolled": true
   },
   "outputs": [],
   "source": [
    "# Load map data\n",
    "import json\n",
    "\n",
    "x = tp.Topology(gdf, toposimplify=.01) # Simplify and topologize the watershed boundaries in order to reduce the file size\n",
    "x = x.to_json() # save as topojson\n",
    "y = json.loads(x) # load as json\n",
    "\n",
    "# create the map\n",
    "m = folium.Map()\n",
    "w = folium.TopoJson(\n",
    "    y,\n",
    "    'objects.data',\n",
    "    name = \"Watersheds\",\n",
    ").add_to(m)\n",
    "folium.GeoJsonTooltip(fields=[\"name\"]).add_to(w)\n",
    "\n",
    "# compute boundaries so that the map automatically zooms in\n",
    "b1 = [list(gdf.total_bounds)[1],list(gdf.total_bounds)[0]]\n",
    "b2 = [list(gdf.total_bounds)[3],list(gdf.total_bounds)[2]]\n",
    "bounds = [b1,b2] #m.fit_bounds([[52.193636, -2.221575], [52.636878, -1.139759]])\n",
    "m.fit_bounds(bounds)\n",
    "\n",
    "# display the map!\n",
    "display(m)"
   ]
  },
  {
   "cell_type": "markdown",
   "metadata": {
    "id": "ZRhbFbjuW0gE"
   },
   "source": [
    "Pick specific watersheds. Ctrl+click to add to the selection, Shift+click to extend the selection."
   ]
  },
  {
   "cell_type": "code",
   "execution_count": null,
   "metadata": {},
   "outputs": [],
   "source": [
    "try :\n",
    "    gdf.set_index(\"name\", inplace=True) #Edit to not alter the gdf\n",
    "except KeyError:\n",
    "    # If the cell is run twice the index is already set and \"name\" is not available\n",
    "    pass\n",
    "    \n",
    "hucs = gdf.index.unique()\n",
    "watershed_w = widgets.SelectMultiple(\n",
    "    options= hucs.sort_values(),\n",
    "    description='Watershed:',\n",
    "    disabled=False,\n",
    ")\n",
    "watershed_w"
   ]
  },
  {
   "cell_type": "markdown",
   "metadata": {
    "id": "S5Qw3lkzXPhi"
   },
   "source": [
    "Get basic information about facilities in this watershed"
   ]
  },
  {
   "cell_type": "code",
   "execution_count": null,
   "metadata": {
    "scrolled": true
   },
   "outputs": [],
   "source": [
    "hucs = []\n",
    "id_string = \"\"\n",
    "for x in watershed_w.value:\n",
    "    huc = gdf.at[ x, \"huc8\" ]\n",
    "    huc = float( huc )\n",
    "    hucs.append( huc )\n",
    "    id_string += str( huc ) + ','\n",
    "    \n",
    "sql = 'select * from \"ECHO_EXPORTER\" where \"FAC_ACTIVE_FLAG\" = \\'Y\\' and \"FAC_DERIVED_HUC\" in (' \\\n",
    "        + id_string[:-1] + ')'\n",
    "try:\n",
    "    # Don't index.\n",
    "    full_echo_data = get_data( sql )\n",
    "except pd.errors.EmptyDataError:\n",
    "    print(\"\\nThere are no EPA facilities for this query.\\n\")\n",
    "full_echo_data    "
   ]
  },
  {
   "cell_type": "markdown",
   "metadata": {
    "id": "tPHCnAKkZrIk"
   },
   "source": [
    "Map these facilities."
   ]
  },
  {
   "cell_type": "code",
   "execution_count": null,
   "metadata": {},
   "outputs": [],
   "source": [
    "if ( full_echo_data is not None ):\n",
    "    map_of_facilities = mapper(full_echo_data) # Some errors not caught here...\n",
    "    this_watershed = gdf.loc[gdf.index.isin( selection.value )]\n",
    "    w = folium.GeoJson(\n",
    "      this_watershed,\n",
    "      name = \"Watershed\",\n",
    "    ).add_to(map_of_facilities)\n",
    "    display( map_of_facilities ) \n",
    "else:\n",
    "    print( \"There are no facilities in the watershed.\" ) "
   ]
  },
  {
   "cell_type": "markdown",
   "metadata": {
    "id": "HommAX7mbYE2"
   },
   "source": [
    "Are the facilities complying with the Clean Water Act? Top violators over the past 13 quarters."
   ]
  },
  {
   "cell_type": "code",
   "execution_count": null,
   "metadata": {
    "id": "btWsrkVlbeyl"
   },
   "outputs": [],
   "source": [
    "df_violators = get_top_violators( full_echo_data, 'NPDES_FLAG', \n",
    "        'CWA_13QTRS_COMPL_HISTORY', 'CWA_FORMAL_ACTION_COUNT', 90 )\n",
    "display( chart_top_violators( df_violators, id_string, \"Watershed\", 'CWA' ))"
   ]
  },
  {
   "cell_type": "markdown",
   "metadata": {
    "id": "3k4eE6g_atLj"
   },
   "source": [
    "Get more detailed, program-specific data for these facilities (e.g. longer-term historical [non]compliance with the Clean Water Act). First, select the program."
   ]
  },
  {
   "cell_type": "code",
   "execution_count": null,
   "metadata": {
    "id": "A33K-FjrZ3zC"
   },
   "outputs": [],
   "source": [
    "data_set_list = ['CWA Violations', 'CWA Inspections', 'CWA Penalties', \n",
    "                 '2020 Discharge Monitoring',] \n",
    "data_sets = make_data_sets( data_set_list )\n",
    "\n",
    "data_set_widget = show_data_set_widget( data_sets ) \n",
    "\n",
    "#Note: we might consider limiting to CWA/SDWA given the watershed-focus of this notebook"
   ]
  },
  {
   "cell_type": "markdown",
   "metadata": {
    "id": "e2F5WUKZbBM6"
   },
   "source": [
    "Get the data from the Stony Brook University database. "
   ]
  },
  {
   "cell_type": "code",
   "execution_count": null,
   "metadata": {
    "id": "_FrDjTuZayCy",
    "scrolled": true
   },
   "outputs": [],
   "source": [
    "program = data_sets[ data_set_widget.value ]\n",
    "program_results = program.store_results( region_type=\"Watershed\", region_value=hucs, state=state.value )\n",
    "program_data = None\n",
    "if ( program_results is not None ):\n",
    "    program_data = program_results.dataframe.copy()\n",
    "\n",
    "    display( program_data )\n",
    "else:\n",
    "    print( \"There is no data for this data set in this watershed.\")"
   ]
  },
  {
   "cell_type": "markdown",
   "metadata": {
    "id": "1DTIC2fzp3XQ"
   },
   "source": [
    "Pollutant discharge data. We will pull up what facilities reported discharging into this watershed. "
   ]
  },
  {
   "cell_type": "code",
   "execution_count": null,
   "metadata": {},
   "outputs": [],
   "source": [
    "dmr_data_set = data_sets['2020 Discharge Monitoring']\n",
    "dmr_results = dmr_data_set.store_results( region_type=\"Watershed\", region_value=hucs, state=state.value )\n",
    "dmr_data = None\n",
    "if ( dmr_results is not None ):\n",
    "    dmr_data = dmr_results.dataframe.copy()\n",
    "\n",
    "    display( dmr_data )\n",
    "else:\n",
    "    print( \"There is no discharge monitoring data for this data set in this watershed.\")"
   ]
  },
  {
   "cell_type": "markdown",
   "metadata": {},
   "source": [
    "### At this point you can follow two different approaches.  "
   ]
  },
  {
   "cell_type": "markdown",
   "metadata": {},
   "source": [
    "1.  You can choose to see a set of facilities in the watersheds, then view and select from the pollutants discharged by those facilities. Run the cells starting with A below.\n",
    "2.  You can choose to see all of the pollutants from all of the facilities in the selected watersheds, then pick specific pollutants and see which of the facilities are discharge. Skip down to the cells starting at B."
   ]
  },
  {
   "cell_type": "markdown",
   "metadata": {},
   "source": [
    "Note:  Run through the cells in each section in sequence.  For example, if you run through section A, then section B, then want to come back and look at different facilities/pollutants in section A, be sure and run the cells in section A again in the order they are presented."
   ]
  },
  {
   "cell_type": "markdown",
   "metadata": {},
   "source": [
    "### A.  Select one or more of the facilities.  To select multiple, use Ctrl+click to add, Shift+click to extend."
   ]
  },
  {
   "cell_type": "code",
   "execution_count": null,
   "metadata": {},
   "outputs": [],
   "source": [
    "facility_list = dmr_data[ 'FAC_NAME' ].unique()\n",
    "facility_list.sort()\n",
    "facility_w = widgets.SelectMultiple(\n",
    "    options= facility_list,\n",
    "    description='Facility:',\n",
    "    disabled=False,\n",
    ")\n",
    "facility_w"
   ]
  },
  {
   "cell_type": "markdown",
   "metadata": {},
   "source": [
    "Select one or more of the pollutants from these facilities."
   ]
  },
  {
   "cell_type": "code",
   "execution_count": null,
   "metadata": {},
   "outputs": [],
   "source": [
    "selected_facs = facility_w.value\n",
    "dmr_fac_data = dmr_data[ dmr_data['FAC_NAME'].isin( selected_facs )]\n",
    "\n",
    "param_list = dmr_fac_data[ 'PARAMETER_DESC' ].unique()\n",
    "param_list.sort()\n",
    "param_w = widgets.SelectMultiple(\n",
    "    options = param_list,\n",
    "    description = 'Parameter:',\n",
    "    disabled = False\n",
    ")\n",
    "param_w"
   ]
  },
  {
   "cell_type": "markdown",
   "metadata": {},
   "source": [
    "These are the discharges of the selected parameters from the selected facilities."
   ]
  },
  {
   "cell_type": "code",
   "execution_count": null,
   "metadata": {},
   "outputs": [],
   "source": [
    "selected_params = param_w.value\n",
    "dmr_param_data = dmr_fac_data[ dmr_fac_data['PARAMETER_DESC'].isin( selected_params )]\n",
    "# print( dmr_param_data )\n",
    "print( dmr_param_data.loc[:,[ 'FAC_NAME', 'PARAMETER_CODE', 'PARAMETER_DESC', 'LIMIT_VALUE_NMBR', 'LIMIT_VALUE_QUALIFIER_CODE',\n",
    "              'LIMIT_VALUE_TYPE_CODE', 'VIOLATION_CODE']] )"
   ]
  },
  {
   "cell_type": "markdown",
   "metadata": {},
   "source": [
    "View a map of only those selected facilities that have discharged the selected pollutant."
   ]
  },
  {
   "cell_type": "code",
   "execution_count": null,
   "metadata": {},
   "outputs": [],
   "source": [
    "if ( dmr_param_data is not None ):\n",
    "    map_of_facilities = mapper(dmr_param_data) # Some errors not caught here...\n",
    "    this_watershed = gdf.loc[gdf.index.isin( selection.value )]\n",
    "    w = folium.GeoJson(\n",
    "      this_watershed,\n",
    "      name = \"Watershed\",\n",
    "    ).add_to(map_of_facilities)\n",
    "    display( map_of_facilities ) \n",
    "else:\n",
    "    print( \"There are no facilities in the watershed.\" ) "
   ]
  },
  {
   "cell_type": "markdown",
   "metadata": {},
   "source": [
    "Write the data to a file."
   ]
  },
  {
   "cell_type": "code",
   "execution_count": null,
   "metadata": {},
   "outputs": [],
   "source": [
    "dmr_param_data.to_csv( 'Discharge-by-facilities-pollutants.csv')"
   ]
  },
  {
   "cell_type": "markdown",
   "metadata": {},
   "source": [
    "### B. We start again with all of the facilities in the selected watersheds.  We view the pollutants discharged by these facilities"
   ]
  },
  {
   "cell_type": "markdown",
   "metadata": {
    "id": "S0dqB-LX1I-C"
   },
   "source": [
    "Select specific pollutants."
   ]
  },
  {
   "cell_type": "code",
   "execution_count": null,
   "metadata": {},
   "outputs": [],
   "source": [
    "param_list = dmr_data[ 'PARAMETER_DESC' ].unique()\n",
    "param_list.sort()\n",
    "param_w = widgets.SelectMultiple(\n",
    "    options = param_list,\n",
    "    description = 'Parameter:',\n",
    "    disabled = False\n",
    ")\n",
    "param_w"
   ]
  },
  {
   "cell_type": "markdown",
   "metadata": {},
   "source": [
    "Map the facilities that discharge these pollutants."
   ]
  },
  {
   "cell_type": "code",
   "execution_count": null,
   "metadata": {},
   "outputs": [],
   "source": [
    "selected_params = param_w.value\n",
    "dmr_param_data = dmr_data[ dmr_data['PARAMETER_DESC'].isin( selected_params )]\n",
    "\n",
    "if ( dmr_param_data is not None ):\n",
    "    map_of_facilities = mapper(dmr_param_data) # Some errors not caught here...\n",
    "    this_watershed = gdf.loc[gdf.index.isin( selection.value )]\n",
    "    w = folium.GeoJson(\n",
    "      this_watershed,\n",
    "      name = \"Watershed\",\n",
    "    ).add_to(map_of_facilities)\n",
    "    display( map_of_facilities ) \n",
    "else:\n",
    "    print( \"There are no facilities in the watershed.\" ) "
   ]
  },
  {
   "cell_type": "markdown",
   "metadata": {},
   "source": [
    "Select from among the facilities discharging these pollutants.  For example, you might select facilities lying along a particular waterway within the watersheds."
   ]
  },
  {
   "cell_type": "code",
   "execution_count": null,
   "metadata": {},
   "outputs": [],
   "source": [
    "selected_params = param_w.value\n",
    "dmr_param_data = dmr_data[ dmr_data['PARAMETER_DESC'].isin( selected_params )]\n",
    "\n",
    "facility_list = dmr_param_data[ 'FAC_NAME' ].unique()\n",
    "facility_list.sort()\n",
    "facility_w = widgets.SelectMultiple(\n",
    "    options= facility_list,\n",
    "    description='Facility:',\n",
    "    disabled=False,\n",
    ")\n",
    "facility_w"
   ]
  },
  {
   "cell_type": "markdown",
   "metadata": {},
   "source": [
    "View the data for the pollutants discharged by these facilities."
   ]
  },
  {
   "cell_type": "code",
   "execution_count": null,
   "metadata": {},
   "outputs": [],
   "source": [
    "selected_facs = facility_w.value\n",
    "dmr_fac_data = dmr_param_data[ dmr_param_data['FAC_NAME'].isin( selected_facs )]\n",
    "dmr_fac_data"
   ]
  },
  {
   "cell_type": "markdown",
   "metadata": {},
   "source": [
    "Write the data to a file."
   ]
  },
  {
   "cell_type": "code",
   "execution_count": null,
   "metadata": {},
   "outputs": [],
   "source": [
    "dmr_fac_data.to_csv( 'Discharge-by-pollutants-facilitys.csv')"
   ]
  },
  {
   "cell_type": "markdown",
   "metadata": {},
   "source": [
    "### C. This section ... some experimental stuff"
   ]
  },
  {
   "cell_type": "code",
   "execution_count": null,
   "metadata": {
    "id": "825guE601IUY"
   },
   "outputs": [],
   "source": [
    "pollutants_w = widgets.Dropdown(\n",
    "    options= sorted(list(dmr_data[\"PARAMETER_DESC\"].unique())),\n",
    "    description='Pollutant:',\n",
    "    disabled=False,\n",
    ")\n",
    "pollutants_w"
   ]
  },
  {
   "cell_type": "code",
   "execution_count": null,
   "metadata": {
    "id": "U4dzdZAjzGxR"
   },
   "outputs": [],
   "source": [
    "this_dmr_data = dmr_data.loc[dmr_data[\"PARAMETER_DESC\"] == pollutants.value]\n",
    "\n",
    "# Cataloguing missing information\n",
    "print((this_dmr_data[\"DMR_VALUE_NMBR\"].isna().sum() / len(this_dmr_data) ) *100) # Percent of DMR values for this pollutant missing\n",
    "print(100* this_dmr_data.drop_duplicates(subset=['LIMIT_VALUE_ID'])[\"LIMIT_VALUE_NMBR\"].isna().sum()/len(this_dmr_data.drop_duplicates(subset=['LIMIT_VALUE_ID']))) # percent of LIMIT_VALUE_NMBR not reported. Does not account for stays.\n",
    "#NMBR_OF_SUBMISSION - The attribute stores the number of months for submitting the DMRs for the limit set (e.g., monthly = 1, semi-annually = 6, quarterly = 3); this data element will be blank for Unscheduled Limit Sets. Must be greater than or equal to NMBR_OF_REPORT and be divisible by NMBR_OF_REPORT.\n",
    "#NMBR_OF_REPORT - The number of months in the monitoring period covered by the DMR (e.g., monthly = 1, quarterly = 3, semi-annually = 6). \n",
    "#For example, if NMBR_OF_REPORT is 3, there should be 4 quarterly reports here. If it is 6, there should be 2.\n",
    "display(this_dmr_data.groupby([\"LIMIT_VALUE_ID\"])[['NMBR_OF_REPORT']].agg({\"count\", \"first\"})) #first is just a cheap way to record the actual NMBR_OF_REPORT value\n",
    "\n",
    "# Cataloguing important numbers\n",
    "print((len(this_dmr_data) / len(dmr_data)) *100) # share of all reports accounted for by this pollutant\n",
    "print(str(this_dmr_data.drop_duplicates(subset=['LIMIT_VALUE_ID'])[\"LIMIT_VALUE_NMBR\"].sum())+\" \"+this_dmr_data[\"LIMIT_UNIT_DESC\"].unique()[0]) # total permitted value LIMIT_VALUE_NMBR. Assumes units are same.\n",
    "print(np.nanmedian(this_dmr_data[\"EXCEEDENCE_PCT\"])) #median percent over permitted value for this pollutant, excluding NaNs. If the output is nan, all exceedance values are NaN"
   ]
  },
  {
   "cell_type": "code",
   "execution_count": null,
   "metadata": {},
   "outputs": [],
   "source": [
    "grouped = dmr_fac_data.loc[:,[ 'FAC_NAME', 'PARAMETER_CODE', 'PARAMETER_DESC', 'LIMIT_VALUE_NMBR', 'LIMIT_VALUE_QUALIFIER_CODE',\n",
    "              'LIMIT_VALUE_TYPE_CODE', 'VIOLATION_CODE']].groupby( ['FAC_NAME', 'PARAMETER_CODE'] )\n",
    "# for name, group in grouped:\n",
    "    # print( name )\n",
    "    # group.to_csv( \"{}.csv\".format( name ))\n",
    "grouped\n"
   ]
  },
  {
   "cell_type": "markdown",
   "metadata": {
    "id": "8BdDYHLFdCAK"
   },
   "source": [
    "To export the above data as a spreadsheet you can view in Excel, run the code block below. The fiel will appear in the \"Files\" tab on Google Colab (click the folder on the left hand side of the screen."
   ]
  },
  {
   "cell_type": "code",
   "execution_count": null,
   "metadata": {
    "id": "yatOnTTqvVnt"
   },
   "outputs": [],
   "source": [
    "dmr_data.to_csv(\"dmr_data.csv\")"
   ]
  },
  {
   "cell_type": "code",
   "execution_count": null,
   "metadata": {},
   "outputs": [],
   "source": []
  }
 ],
 "metadata": {
  "colab": {
   "collapsed_sections": [],
   "name": "ECHO-Watershed.ipynb",
   "provenance": [],
   "toc_visible": true
  },
  "kernelspec": {
   "display_name": "Python 3",
   "language": "python",
   "name": "python3"
  },
  "language_info": {
   "codemirror_mode": {
    "name": "ipython",
    "version": 3
   },
   "file_extension": ".py",
   "mimetype": "text/x-python",
   "name": "python",
   "nbconvert_exporter": "python",
   "pygments_lexer": "ipython3",
   "version": "3.7.7"
  }
 },
 "nbformat": 4,
 "nbformat_minor": 1
}
