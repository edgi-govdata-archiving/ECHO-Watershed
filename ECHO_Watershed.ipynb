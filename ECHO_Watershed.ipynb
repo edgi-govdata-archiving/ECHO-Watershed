{
  "nbformat": 4,
  "nbformat_minor": 0,
  "metadata": {
    "colab": {
      "name": "ECHO-Watershed.ipynb",
      "provenance": [],
      "collapsed_sections": [],
      "toc_visible": true
    },
    "kernelspec": {
      "display_name": "Python 3",
      "language": "python",
      "name": "python3"
    },
    "language_info": {
      "codemirror_mode": {
        "name": "ipython",
        "version": 3
      },
      "file_extension": ".py",
      "mimetype": "text/x-python",
      "name": "python",
      "nbconvert_exporter": "python",
      "pygments_lexer": "ipython3",
      "version": "3.7.6"
    }
  },
  "cells": [
    {
      "cell_type": "markdown",
      "metadata": {
        "id": "Ylalhm0wbt2p"
      },
      "source": [
        "| ![EEW logo](https://github.com/edgi-govdata-archiving/EEW-Image-Assets/blob/master/Jupyter%20instructions/eew.jpg?raw=true) | ![EDGI logo](https://github.com/edgi-govdata-archiving/EEW-Image-Assets/blob/master/Jupyter%20instructions/edgi.png?raw=true) |\n",
        "|---|---|\n",
        "\n",
        "#### This notebook is licensed under GPL 3.0. Please visit our Github repo for more information: \n",
        "#### The notebook was collaboratively authored by the Environmental Data & Governance Initiative (EDGI) following our authorship protocol: https://docs.google.com/document/d/1CtDN5ZZ4Zv70fHiBTmWkDJ9mswEipX6eCYrwicP66Xw/\n",
        "#### For more information about this project, visit https://www.environmentalenforcementwatch.org/"
      ]
    },
    {
      "cell_type": "markdown",
      "metadata": {
        "id": "xwpXPiNLbt2x"
      },
      "source": [
        "## How to Run this Notebook\n",
        "* If you click on a gray **code** cell, a little “play button” arrow appears on the left. If you click the play button, it will run the code in that cell (“**running** a cell”). The button will animate. When the animation stops, the cell has finished running.\n",
        "![Where to click to run the cell](https://github.com/edgi-govdata-archiving/EEW-Image-Assets/blob/master/Jupyter%20instructions/pressplay.JPG?raw=true)\n",
        "* You may get a warning that the notebook was not authored by Google. We know, we authored them! It’s okay. Click “Run Anyway” to continue. \n",
        "![Error Message](https://github.com/edgi-govdata-archiving/EEW-Image-Assets/blob/master/Jupyter%20instructions/warning-message.JPG?raw=true)\n",
        "* Run all of the cells in a Notebook to make a complete report. Please feel free to look at and **learn about each result as you create it**!\n",
        "\n",
        "---"
      ]
    },
    {
      "cell_type": "markdown",
      "metadata": {
        "id": "vU4AqThS-37L"
      },
      "source": [
        "# Watershed statistics from ECHO"
      ]
    },
    {
      "cell_type": "markdown",
      "metadata": {
        "id": "czia5t5ebt20"
      },
      "source": [
        "Here we load some helper code to get us going."
      ]
    },
    {
      "cell_type": "code",
      "metadata": {
        "id": "vF3iTaeCbt23"
      },
      "source": [
        "!git clone https://github.com/edgi-govdata-archiving/ECHO_modules.git\n",
        "!git clone https://github.com/edgi-govdata-archiving/ECHO-Cross-Program.git\n",
        "!pip install geopandas\n",
        "import geopandas as geopandas\n",
        "!pip install topojson\n",
        "import topojson as tp\n",
        "\n",
        "%run ECHO_modules/DataSet.py\n",
        "%run ECHO-Cross-Program/utilities.py\n",
        "%run ECHO_modules/make_data_sets.py\n",
        "print(\"Done!\")"
      ],
      "execution_count": null,
      "outputs": []
    },
    {
      "cell_type": "markdown",
      "metadata": {
        "id": "We7JGCaxWIFF"
      },
      "source": [
        "Select the state you want to look more closely at."
      ]
    },
    {
      "cell_type": "code",
      "metadata": {
        "id": "uSnqlusE2-A8"
      },
      "source": [
        "from ECHO_modules import geographies\n",
        "\n",
        "state = widgets.Dropdown(\n",
        "    options=states,\n",
        "    value=states[0],\n",
        "    description='State:',\n",
        "    disabled=False,\n",
        ")\n",
        "state"
      ],
      "execution_count": null,
      "outputs": []
    },
    {
      "cell_type": "markdown",
      "metadata": {
        "id": "8kx5TlXdWOUm"
      },
      "source": [
        "Run this cell to load watershed data. It may take some time depending on the state you're looking at!"
      ]
    },
    {
      "cell_type": "code",
      "metadata": {
        "id": "Ai3AckBP-zRV"
      },
      "source": [
        "# Load data from SBU database\n",
        "# https://gis.stackexchange.com/questions/112057/sql-query-to-have-a-complete-geojson-feature-from-postgis\n",
        "sql = \"\"\"\n",
        "    SELECT jsonb_build_object(\n",
        "        'type', 'FeatureCollection', 'features', jsonb_agg(features.feature)\n",
        "    )\n",
        "    FROM (\n",
        "        SELECT jsonb_build_object(\n",
        "            'type', 'Feature','id', gid, 'geometry',\n",
        "            ST_AsGeoJSON(geom)::jsonb,'properties',\n",
        "            to_jsonb(inputs) - 'gid' - 'geom'\n",
        "        ) AS feature\n",
        "        FROM (\n",
        "            SELECT *\n",
        "            FROM \"wbdhu8\"\n",
        "            WHERE \"states\" LIKE '%\"\"\"+state.value+\"\"\"%'\n",
        "        ) inputs\n",
        "    ) features;\n",
        "\"\"\"\n",
        "url= 'http://portal.gss.stonybrook.edu/echoepa/index2.php?query=' # Old server: 'http://apps.tlt.stonybrook.edu/echoepa/index2.php?query='\n",
        "data_location=url+urllib.parse.quote_plus(sql) + '&pg'\n",
        "#print(sql) # For debugging\n",
        "print(data_location) # For debugging\n",
        "gdf=None\n",
        "try:\n",
        "  gdf = geopandas.read_file(data_location)\n",
        "  print(\"Data loaded. Now to map it!\")\n",
        "except:\n",
        "  print('Something went wrong!')"
      ],
      "execution_count": null,
      "outputs": []
    },
    {
      "cell_type": "markdown",
      "metadata": {
        "id": "YEag5jFMWTAm"
      },
      "source": [
        "Map the watersheds in this state. It may take some time depending on the state you're looking at! It may also \"disconnect\" if there are a lot of watersheds. Still, you can just skip to the next step (\"Pick a specific watershed...\")"
      ]
    },
    {
      "cell_type": "code",
      "metadata": {
        "id": "ZXXi-rF6KmED"
      },
      "source": [
        "# Load map data\n",
        "x = tp.Topology(gdf, toposimplify=.01) # Simplify and topologize the watershed boundaries in order to reduce the file size\n",
        "x = x.to_json() # save as topojson\n",
        "y = json.loads(x) # load as json\n",
        "\n",
        "# create the map\n",
        "m = folium.Map()\n",
        "w = folium.TopoJson(\n",
        "    y,\n",
        "    'objects.data',\n",
        "    name = \"Watersheds\",\n",
        ").add_to(m)\n",
        "folium.GeoJsonTooltip(fields=[\"name\"]).add_to(w)\n",
        "\n",
        "# compute boundaries so that the map automatically zooms in\n",
        "b1 = [list(gdf.total_bounds)[1],list(gdf.total_bounds)[0]]\n",
        "b2 = [list(gdf.total_bounds)[3],list(gdf.total_bounds)[2]]\n",
        "bounds = [b1,b2] #m.fit_bounds([[52.193636, -2.221575], [52.636878, -1.139759]])\n",
        "m.fit_bounds(bounds)\n",
        "\n",
        "# display the map!\n",
        "display(m)"
      ],
      "execution_count": null,
      "outputs": []
    },
    {
      "cell_type": "markdown",
      "metadata": {
        "id": "ZRhbFbjuW0gE"
      },
      "source": [
        "Pick a specific watershed."
      ]
    },
    {
      "cell_type": "code",
      "metadata": {
        "id": "6AUmb9qyWmOI"
      },
      "source": [
        "gdf.set_index(\"name\", inplace=True) #Edit to not alter the gdf\n",
        "\n",
        "hucs = gdf.index.unique()\n",
        "selection = widgets.Dropdown(\n",
        "    options= hucs,\n",
        "    description='Watershed:',\n",
        "    disabled=False,\n",
        ")\n",
        "selection"
      ],
      "execution_count": null,
      "outputs": []
    },
    {
      "cell_type": "markdown",
      "metadata": {
        "id": "S5Qw3lkzXPhi"
      },
      "source": [
        "Get basic information about facilities in this watershed"
      ]
    },
    {
      "cell_type": "code",
      "metadata": {
        "id": "6aimlCJJW74Y"
      },
      "source": [
        "huc = gdf.at[selection.value, \"huc8\"]\n",
        "huc = float(huc) #string or integer?\n",
        "\n",
        "# Get everything we will need from ECHO_EXPORTER in a single DB query.\n",
        "# We can then use the full dataframe to specialize views of it.\n",
        "full_echo_data = None\n",
        "\n",
        "sql = 'select * from \"ECHO_EXPORTER\" where \"FAC_DERIVED_HUC\" = ' + str(huc) + ''\n",
        "try:\n",
        "    # Don't index.\n",
        "    full_echo_data = get_data( sql )\n",
        "except pd.errors.EmptyDataError:\n",
        "    print(\"\\nThere are no EPA facilities for this query.\\n\")\n",
        "full_echo_data"
      ],
      "execution_count": null,
      "outputs": []
    },
    {
      "cell_type": "markdown",
      "metadata": {
        "id": "tPHCnAKkZrIk"
      },
      "source": [
        "Map these facilities."
      ]
    },
    {
      "cell_type": "code",
      "metadata": {
        "id": "HMfqzqhFZcMP"
      },
      "source": [
        "if ( full_echo_data is not None ):\n",
        "    map_of_facilities = mapper(full_echo_data) # Some errors not caught here...\n",
        "    this_watershed = gdf.loc[gdf.index == selection.value]\n",
        "    w = folium.GeoJson(\n",
        "      this_watershed,\n",
        "      name = \"Watershed\",\n",
        "    ).add_to(map_of_facilities)\n",
        "    display( map_of_facilities ) \n",
        "else:\n",
        "    print( \"There are no facilities in the watershed.\" )   "
      ],
      "execution_count": null,
      "outputs": []
    },
    {
      "cell_type": "markdown",
      "metadata": {
        "id": "HommAX7mbYE2"
      },
      "source": [
        "Are the facilities complying with the Clean Water Act? Top violators over the past 13 quarters."
      ]
    },
    {
      "cell_type": "code",
      "metadata": {
        "id": "btWsrkVlbeyl"
      },
      "source": [
        "df_violators = get_top_violators( full_echo_data, 'NPDES_FLAG', selection.value, \"Watershed\", \n",
        "        'CWA_13QTRS_COMPL_HISTORY', 'CWA_FORMAL_ACTION_COUNT', 20 )\n",
        "display( chart_top_violators( df_violators, selection.value, \"Watershed\", 'CWA' ))"
      ],
      "execution_count": null,
      "outputs": []
    },
    {
      "cell_type": "markdown",
      "metadata": {
        "id": "3k4eE6g_atLj"
      },
      "source": [
        "Get more detailed, program-specific data for these facilities (e.g. longer-term historical [non]compliance with the Clean Water Act). First, select the program."
      ]
    },
    {
      "cell_type": "code",
      "metadata": {
        "id": "A33K-FjrZ3zC"
      },
      "source": [
        "data_sets = make_data_sets()\n",
        "\n",
        "data_set_widget = show_data_set_widget( data_sets ) \n",
        "\n",
        "#Note: we might consider limiting to CWA/SDWA given the watershed-focus of this notebook"
      ],
      "execution_count": null,
      "outputs": []
    },
    {
      "cell_type": "markdown",
      "metadata": {
        "id": "e2F5WUKZbBM6"
      },
      "source": [
        "Get the data from the Stony Brook University database. "
      ]
    },
    {
      "cell_type": "code",
      "metadata": {
        "id": "_FrDjTuZayCy"
      },
      "source": [
        "program = data_sets[ data_set_widget.value ]\n",
        "program_results = program.store_results( region_type=\"Watershed\", region_value=huc, state=state.value )\n",
        "program_data = None\n",
        "if ( program_results is not None ):\n",
        "    program_data = program_results.dataframe.copy()\n",
        "\n",
        "    display( program_data )\n",
        "else:\n",
        "    print( \"There is no data for this data set in this watershed.\")"
      ],
      "execution_count": null,
      "outputs": []
    },
    {
      "cell_type": "markdown",
      "metadata": {
        "id": "1DTIC2fzp3XQ"
      },
      "source": [
        "Pollutant discharge data. We will pull up what facilities reported discharging into this watershed between October 2019 through September 2020. Note: currently we are only pulling 50 random facilities."
      ]
    },
    {
      "cell_type": "code",
      "metadata": {
        "id": "pZ8XA36wri02"
      },
      "source": [
        "echo_data = full_echo_data[ full_echo_data['NPDES_FLAG'] == 'Y' ].copy().reset_index( drop=True )\n",
        "# Filter ECHO EXPORTER data to rows containing NPDES IDs \n",
        "idxs=set() # Use a set to get unique facilities\n",
        "for index,value in echo_data[\"NPDES_IDS\"].items(): # For each record in E_E\n",
        "    for i in value.split(): # For each NPDES_ID in the record\n",
        "        idxs.add(i) # Add its ID to the list\n",
        "idxs=list(idxs)\n",
        "idxs = idxs[1:50] # for testing\n",
        "ids = \"\"\n",
        "for id in idxs:\n",
        "    ids+=\"'\"+id+\"',\"\n",
        "ids=ids[:-1]\n",
        "ids"
      ],
      "execution_count": null,
      "outputs": []
    },
    {
      "cell_type": "code",
      "metadata": {
        "id": "Yqy_OBx6p3DU"
      },
      "source": [
        "dmr_data = None  #\"NPDES_DMRS_FY2020\"\n",
        "try:\n",
        "    sql = 'select * from \"NPDES_DMRS_FY2020\" where \"EXTERNAL_PERMIT_NMBR\" in ('+ids+')' \n",
        "    #DMR_FY2020_MVIEW ?\n",
        "    url= 'http://portal.gss.stonybrook.edu/echoepa/index.php?query=' # Old server: 'http://apps.tlt.stonybrook.edu/echoepa/index2.php?query='\n",
        "    data_location=url+urllib.parse.quote_plus(sql) + '&pg'\n",
        "    print(sql) # For debugging\n",
        "    print(data_location) # For debugging\n",
        "    dmr_data = pd.read_csv(data_location)\n",
        "    count = len(dmr_data.index.unique())\n",
        "    print(\"There are \"+str(count)+\" permits with DMRs. Here are their records:\")\n",
        "except:\n",
        "    print( \"No data found\")\n",
        "dmr_data"
      ],
      "execution_count": null,
      "outputs": []
    },
    {
      "cell_type": "markdown",
      "metadata": {
        "id": "S0dqB-LX1I-C"
      },
      "source": [
        "Select a specific pollutant"
      ]
    },
    {
      "cell_type": "code",
      "metadata": {
        "id": "825guE601IUY"
      },
      "source": [
        "pollutants = widgets.Dropdown(\n",
        "    options= sorted(list(dmr_data[\"PARAMETER_DESC\"].unique())),\n",
        "    description='Pollutant:',\n",
        "    disabled=False,\n",
        ")\n",
        "pollutants"
      ],
      "execution_count": null,
      "outputs": []
    },
    {
      "cell_type": "code",
      "metadata": {
        "id": "U4dzdZAjzGxR"
      },
      "source": [
        "this_dmr_data = dmr_data.loc[dmr_data[\"PARAMETER_DESC\"] == pollutants.value]\n",
        "\n",
        "# Cataloguing missing information\n",
        "print((this_dmr_data[\"DMR_VALUE_NMBR\"].isna().sum() / len(this_dmr_data) ) *100) # Percent of DMR values for this pollutant missing\n",
        "print(100* this_dmr_data.drop_duplicates(subset=['LIMIT_VALUE_ID'])[\"LIMIT_VALUE_NMBR\"].isna().sum()/len(this_dmr_data.drop_duplicates(subset=['LIMIT_VALUE_ID']))) # percent of LIMIT_VALUE_NMBR not reported. Does not account for stays.\n",
        "#NMBR_OF_SUBMISSION - The attribute stores the number of months for submitting the DMRs for the limit set (e.g., monthly = 1, semi-annually = 6, quarterly = 3); this data element will be blank for Unscheduled Limit Sets. Must be greater than or equal to NMBR_OF_REPORT and be divisible by NMBR_OF_REPORT.\n",
        "#NMBR_OF_REPORT - The number of months in the monitoring period covered by the DMR (e.g., monthly = 1, quarterly = 3, semi-annually = 6). \n",
        "#For example, if NMBR_OF_REPORT is 3, there should be 4 quarterly reports here. If it is 6, there should be 2.\n",
        "display(this_dmr_data.groupby([\"LIMIT_VALUE_ID\"])[['NMBR_OF_REPORT']].agg({\"count\", \"first\"})) #first is just a cheap way to record the actual NMBR_OF_REPORT value\n",
        "\n",
        "# Cataloguing important numbers\n",
        "print((len(this_dmr_data) / len(dmr_data)) *100) # share of all reports accounted for by this pollutant\n",
        "print(str(this_dmr_data.drop_duplicates(subset=['LIMIT_VALUE_ID'])[\"LIMIT_VALUE_NMBR\"].sum())+\" \"+this_dmr_data[\"LIMIT_UNIT_DESC\"].unique()[0]) # total permitted value LIMIT_VALUE_NMBR. Assumes units are same.\n",
        "print(np.nanmedian(this_dmr_data[\"EXCEEDENCE_PCT\"])) #median percent over permitted value for this pollutant, excluding NaNs. If the output is nan, all exceedance values are NaN"
      ],
      "execution_count": null,
      "outputs": []
    },
    {
      "cell_type": "markdown",
      "metadata": {
        "id": "8BdDYHLFdCAK"
      },
      "source": [
        "To export the above data as a spreadsheet you can view in Excel, run the code block below. The fiel will appear in the \"Files\" tab on Google Colab (click the folder on the left hand side of the screen."
      ]
    },
    {
      "cell_type": "code",
      "metadata": {
        "id": "yatOnTTqvVnt"
      },
      "source": [
        "dmr_data.to_csv(\"data.csv\")"
      ],
      "execution_count": null,
      "outputs": []
    }
  ]
}