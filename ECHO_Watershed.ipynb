{
  "nbformat": 4,
  "nbformat_minor": 0,
  "metadata": {
    "colab": {
      "name": "ECHO_Watershed",
      "provenance": [],
      "collapsed_sections": [
        "suz8vIZI5W0Y"
      ]
    },
    "kernelspec": {
      "display_name": "Python 3",
      "language": "python",
      "name": "python3"
    },
    "language_info": {
      "codemirror_mode": {
        "name": "ipython",
        "version": 3
      },
      "file_extension": ".py",
      "mimetype": "text/x-python",
      "name": "python",
      "nbconvert_exporter": "python",
      "pygments_lexer": "ipython3",
      "version": "3.8.5"
    }
  },
  "cells": [
    {
      "cell_type": "markdown",
      "metadata": {
        "id": "Ylalhm0wbt2p"
      },
      "source": [
        "| ![EEW logo](https://github.com/edgi-govdata-archiving/EEW-Image-Assets/blob/main/Jupyter%20instructions/eew.jpg?raw=true) | ![EDGI logo](https://github.com/edgi-govdata-archiving/EEW-Image-Assets/blob/main/Jupyter%20instructions/edgi.png?raw=true) |\n",
        "|---|---|\n",
        "\n",
        "\n",
        "#### This notebook is licensed under GPL 3.0. Please visit our Github repo for more information: \n",
        "#### The notebook was collaboratively authored by the Environmental Data & Governance Initiative (EDGI) following [our authorship protocol](https://docs.google.com/document/d/1CtDN5ZZ4Zv70fHiBTmWkDJ9mswEipX6eCYrwicP66Xw/)\n",
        "#### For more information about this project, visit [our website](https://www.environmentalenforcementwatch.org/)"
      ]
    },
    {
      "cell_type": "markdown",
      "metadata": {
        "id": "vB-HOC1zkTL0"
      },
      "source": [
        "*Note: This notebook pulls data from a copy of EPA's ECHO database hosted by Stony Brook University. The data sets are updated sporadically, meaning that some of the results from your run may not exactly match those in other EEW data products or from your previous run.* "
      ]
    },
    {
      "cell_type": "markdown",
      "metadata": {
        "id": "2s6QoolUEFKK"
      },
      "source": [
        "# EEW's Watershed Notebook\n",
        "\n",
        "---\n",
        "\n",
        "\n",
        "\n",
        "This is a Jupyter Notebook - a way to organize Python computer programming code. Hosting the notebook on Google Colab allows you to access and visualize data without actually needing to do any coding! The code is left visible for individuals with a knowledge of Python or for those wondering how this site was put together. This allows for a more interactive user experience. \n",
        "\n",
        "In this notebook, we use [EPA's ECHO database](https://echo.epa.gov/) to understand who is polluting what and where in watersheds across the United States. We do this by accessing EPA data related to the Clean Water Act. More information on the Clean Water Act can be found [here](https://docs.google.com/presentation/d/1g6ZN3B5jvs3F1VAigiUtNNezjXdJnzuELfo9Deo9Y2w/edit?usp=sharing). \n",
        "\n",
        "The notebook asks you to select a **a zip code** and finds the United States Geological Survey (USGS) watershed boundaries, known as Hydrologic Unit Codes or **HUC codes** that intersect with your zip code. The rest of the notebook then gathers information about facilities that report under the Clean Water Act in the watersheds. \n",
        "\n",
        "Be sure to read the instructions in \"How to Run\" (below)  and the notes above each cell for important tips and context! You may also wish to watch the tutorial video linked to in the first cell of code below."
      ]
    },
    {
      "cell_type": "markdown",
      "metadata": {
        "id": "Ux5rgSJykyLe"
      },
      "source": [
        "## How to Run\n",
        "![Instructions for running a Jupyter Notebook](https://github.com/edgi-govdata-archiving/EEW-Image-Assets/blob/main/overall_instructions.png?raw=true)"
      ]
    },
    {
      "cell_type": "markdown",
      "metadata": {
        "id": "BwNk30cgM0yE"
      },
      "source": [
        "# 0. Getting Ready\n",
        "Run the cell below to load a YouTube video where you can get a demo of how to use this notebook to learn about water pollution and polluters in your community."
      ]
    },
    {
      "cell_type": "code",
      "metadata": {
        "id": "J-rFwxe2NAwv"
      },
      "source": [
        "from IPython.display import YouTubeVideo\n",
        "YouTubeVideo('gR5jVqb43os')"
      ],
      "execution_count": null,
      "outputs": []
    },
    {
      "cell_type": "markdown",
      "source": [
        "For further reference you might be interested in our [guide available here](https://docs.google.com/document/d/1fOL1O30cAXS7iOZMItSekG8E8KIUfH-EaYG601W-ncM/edit?usp=sharing).\n",
        "\n",
        "*Please note that we continue to refine the notebook, so there may be some differences between the tutorial video, the guide, and the steps that follow below in the notebook.*"
      ],
      "metadata": {
        "id": "oCv4v0PnXxMV"
      }
    },
    {
      "cell_type": "markdown",
      "metadata": {
        "id": "czia5t5ebt20"
      },
      "source": [
        "# 1. Begin! \n",
        "First, we load some code to help us get going in our analysis of water pollution and polluters. You'll know this is completed when \"Done!\" appears at the bottom of the gray cell (right before Step 2). "
      ]
    },
    {
      "cell_type": "code",
      "metadata": {
        "id": "vF3iTaeCbt23",
        "scrolled": true
      },
      "source": [
        "# This code block will fetch and install the libraries specified below.\n",
        "\n",
        "# We have a folder of chunks of reusable code that we're using across different\n",
        "#  Notebooks. This step goes and gets the relevant code from that folder so we\n",
        "#  can use it here. (https://github.com/edgi-govdata-archiving/ECHO_modules/)\n",
        "!git clone https://github.com/edgi-govdata-archiving/ECHO_modules.git -b reorganization &>/dev/null;\n",
        "\n",
        "# Geopandas is an open source library for working with geographic data using the\n",
        "#   data structures library \"pandas\" (common in Python for data processing).\n",
        "#   (https://geopandas.org/)\n",
        "!pip install geopandas  &>/dev/null;\n",
        "\n",
        "# Topojson is an open source library that lets us keep file sizes small when\n",
        "#   working with geographic data, so the Notebooks can run faster while still\n",
        "#   working with detailed shapes. (https://github.com/mattijn/topojson)\n",
        "!pip install topojson &>/dev/null;\n",
        "\n",
        "# Install rtree to enable geopandas to clip data spatially\n",
        "!pip install rtree &>/dev/null;\n",
        "\n",
        "import warnings\n",
        "warnings.filterwarnings('ignore')\n",
        "\n",
        "%run ECHO_modules/utilities.py\n",
        "%run ECHO_modules/presets.py\n",
        "%run ECHO_modules/class.py\n",
        "from IPython.core.display import HTML\n",
        "\n",
        "print(\"Done!\")"
      ],
      "execution_count": null,
      "outputs": []
    },
    {
      "cell_type": "markdown",
      "metadata": {
        "id": "jI12qR3owd0l"
      },
      "source": [
        "# 2. Where do you want to search?\n",
        "You don't need to know the name of your watershed - we'll find the “HUCs” that at least partially cover your zip code(s). HUC stands for Hydrologic Unit Code and is the method the USGS uses to identify watersheds across the United States. HUCs come in different sizes (2,4,6,8,10,12). The HUC code essentially determines how big your search radius is – HUC8 being bigger and HUC10 smaller. HUC8 describes subbasins, of which there are approximately 2,200 in the U.S. There are approximately 20,000 HUC10 watersheds across the United States. The image below, from USGS, helps to visualize this. Additional information on HUCs can be found [here](https://nas.er.usgs.gov/hucs.aspx). \n",
        " \n",
        "![USGS HUC illustration](https://github.com/edgi-govdata-archiving/EEW-Image-Assets/blob/main/huc.png?raw=true) Source: [South Dakota State University](https://extension.sdstate.edu/sites/default/files/inline-images/W-01296-03-Water-Hydrologic-Unit-Code-HUG.png).\n",
        "\n",
        "![Instructions for selecting a zip code and huc](https://github.com/edgi-govdata-archiving/EEW-Image-Assets/blob/main/ziphuc_instructions.png?raw=true) "
      ]
    },
    {
      "cell_type": "code",
      "metadata": {
        "id": "sXgteF3hN2KV"
      },
      "source": [
        "# (a)\n",
        "units = show_pick_region_widget( \"Zip Code\" )\n",
        "units"
      ],
      "execution_count": null,
      "outputs": []
    },
    {
      "cell_type": "code",
      "metadata": {
        "id": "ElO1LK7qL-gk"
      },
      "source": [
        "# (b)\n",
        "region_field = {k: v for k, v in region_field.items() if k in [\"HUC8 Watersheds\", \"HUC10 Watersheds\", \"HUC12 Watersheds\"]} \n",
        "region = show_region_type_widget( region_field )\n",
        "region"
      ],
      "execution_count": null,
      "outputs": []
    },
    {
      "cell_type": "markdown",
      "metadata": {
        "id": "yNm6lylVXX-m"
      },
      "source": [
        "# 3. Get the data!\n",
        "![Instructions for getting data](https://github.com/edgi-govdata-archiving/EEW-Image-Assets/blob/main/data_instructions.png?raw=true) "
      ]
    },
    {
      "cell_type": "code",
      "metadata": {
        "id": "HB8_n7hMXcN_"
      },
      "source": [
        "# (a)\n",
        "units_list = [u for u in str(units.value).split(\",\")] # parse commas\n",
        "data = Echo(units_list, region.value, [], intersection=True, intersecting_geo=\"Zip Codes\")\n",
        "print(\"Done!\")"
      ],
      "execution_count": null,
      "outputs": []
    },
    {
      "cell_type": "code",
      "metadata": {
        "id": "9eeGR4JuaDlp"
      },
      "source": [
        "# (b)\n",
        "data.show_map()"
      ],
      "execution_count": null,
      "outputs": []
    },
    {
      "cell_type": "code",
      "source": [
        "# (c)\n",
        "region_widget = None\n",
        "input = list(data.spatial_data[spatial_tables[region.value]['id_field'].lower()].unique())\n",
        "region_widget = widgets.SelectMultiple(\n",
        "    options=input,\n",
        "    description='Watersheds',\n",
        "    disabled=False\n",
        ")\n",
        "region_widget"
      ],
      "metadata": {
        "id": "voyWePggg9tb"
      },
      "execution_count": null,
      "outputs": []
    },
    {
      "cell_type": "code",
      "source": [
        "# (d)\n",
        "units_list = [u for u in region_widget.value] # parse commas\n",
        "units_list = [str(u) if len(str(u)) in [8,10,12] else \"0\" + str(u) for u in units_list] # account for missing 0s\n",
        "data = Echo(units_list, region.value)\n",
        "print(\"Done!\")"
      ],
      "metadata": {
        "id": "jnjLBk0eiY48"
      },
      "execution_count": null,
      "outputs": []
    },
    {
      "cell_type": "markdown",
      "metadata": {
        "id": "h-1Cf-aBYuPa"
      },
      "source": [
        "# 4. Show me the data! \n",
        "![Instructions to produce overview of watershed data](https://github.com/edgi-govdata-archiving/EEW-Image-Assets/blob/main/summary_instructions.png?raw=true)"
      ]
    },
    {
      "cell_type": "code",
      "source": [
        "# (a)\n",
        "data.facilities = data.results[\"facilities\"].loc[data.results[\"facilities\"][\"NPDES_FLAG\"]==\"Y\"]\n",
        "data.show_facility_map()"
      ],
      "metadata": {
        "id": "Jj26slukdONW"
      },
      "execution_count": null,
      "outputs": []
    },
    {
      "cell_type": "markdown",
      "metadata": {
        "id": "F0pEh7EkdoK9"
      },
      "source": [
        "*Facilities that have been non-compliant with the CWA for the same number of quarters are not listed in any particular order. Because there are often more than 20 facilities that have been non-compliant during the last 13 quarters, some facilities may not appear on this chart. You can show more than 20 facilities by changing the number 20 in the cell to something else before running it.*  "
      ]
    },
    {
      "cell_type": "code",
      "metadata": {
        "id": "qsEG6XUWdqHS"
      },
      "source": [
        "# (b)\n",
        "data.show_top_violators(\"CWA\", 20)"
      ],
      "execution_count": null,
      "outputs": []
    },
    {
      "cell_type": "markdown",
      "source": [
        "*Information for Fiscal Year 2021 is coming soon! This cell may take up to 5 minutes to run if there are many facilities in the watershed(s) you have selected.*"
      ],
      "metadata": {
        "id": "zimLHXZLmYG4"
      }
    },
    {
      "cell_type": "code",
      "source": [
        "# (c)\n",
        "data.add(\"2020 Discharge Monitoring\") \n",
        "top_pollutants = data.results['2020 Discharge Monitoring'].groupby(['PARAMETER_DESC'])[[\"FAC_NAME\"]].nunique()\n",
        "top_pollutants = top_pollutants.rename(columns={\"FAC_NAME\": \"# of facilities\"})\n",
        "top_pollutants.sort_values(by=\"# of facilities\", ascending=False)"
      ],
      "metadata": {
        "id": "BpaQ-molmXeF"
      },
      "execution_count": null,
      "outputs": []
    },
    {
      "cell_type": "code",
      "source": [
        "# (d)\n",
        "pollutants = widgets.Dropdown(\n",
        "    options=list(top_pollutants.index),\n",
        "    description='Pollutants:',\n",
        "    disabled=False,\n",
        ")\n",
        "display(pollutants)"
      ],
      "metadata": {
        "id": "9LWmW-sJssI7"
      },
      "execution_count": null,
      "outputs": []
    },
    {
      "cell_type": "code",
      "source": [
        "# (e)\n",
        "top_pollutors = data.results['2020 Discharge Monitoring'].groupby(['PARAMETER_DESC', 'FAC_NAME', 'STANDARD_UNIT_DESC'])[[\"DMR_VALUE_STANDARD_UNITS\"]].sum()\n",
        "top_pollutors = top_pollutors.rename(columns={\"STANDARD_UNIT_DESC\": \"units\", \"DMR_VALUE_STANDARD_UNITS\": \"values\"})\n",
        "display(HTML(\"<h3>\"+pollutants.value+\":</h3\"))\n",
        "top_pollutors.loc[pollutants.value].sort_values(by=\"values\", ascending=False)"
      ],
      "metadata": {
        "id": "oZyquzS-ptSV"
      },
      "execution_count": null,
      "outputs": []
    },
    {
      "cell_type": "markdown",
      "metadata": {
        "id": "ZNi2O19CaQzC"
      },
      "source": [
        "# 5. Explore!\n",
        "There are several components of the Clean Water Act; we are focused on its National Pollutant Discharge Elimination System (NPDES). A facility can be *inspected* for compliance with NPDES, it can be found in *violation* of NPDES, and EPA or its state-level equivalents can levy *enforcement actions* against violating facilities. Additionally, facilities are required to submit reports summarizing their discharges into water bodies.\n",
        "\n",
        "- **CWA Violations** = The number of facilities that were non-compliant with CWA NPDES in each quarter.\n",
        "- **CWA Inspections** = The number of inspections of facilities made by state or federal regulators.\n",
        "- **CWA Enforcements** = The amount of monetary penalties levied against polluting facilities, as well as the number of other enforcement actions such as administrative orders.\n",
        "- **2020 Discharge Monitoring Reports** = The reports of wastewater discharges that facilities are required to submit. These are checked by EPA in order to determine Effluent Violations.\n",
        "\n",
        "You can find more detailed definitions of these and other related terms [here](https://echo.epa.gov/tools/data-downloads/icis-npdes-download-summary).\n",
        "\n",
        "![Instructions for exploring the data in depth](https://github.com/edgi-govdata-archiving/EEW-Image-Assets/blob/main/explore_instructions.png?raw=true) \n"
      ]
    },
    {
      "cell_type": "code",
      "metadata": {
        "id": "t6McZJQuaXD_"
      },
      "source": [
        "# (a)\n",
        "data_sets = {k: v for k, v in attribute_tables.items() if v['echo_type'] == \"NPDES\"}\n",
        "\n",
        "explore = show_data_set_widget( data_sets ) \n",
        "visualization = widgets.ToggleButtons(\n",
        "    options=['Map', 'Chart', 'Table'],\n",
        "    description='Visualization:',\n",
        "    disabled=False,\n",
        "    button_style='success', # 'success', 'info', 'warning', 'danger' or ''\n",
        "    tooltips=['Show a map of facilities', 'Chart data over time', 'Show '],\n",
        ")\n",
        "display(explore)\n",
        "display(visualization)"
      ],
      "execution_count": null,
      "outputs": []
    },
    {
      "cell_type": "code",
      "metadata": {
        "id": "MqYvYCKBa-qJ"
      },
      "source": [
        "# (b)\n",
        "program = explore.value\n",
        "\n",
        "if visualization.value == \"Map\":\n",
        "  data.show_program_map(program)\n",
        "elif visualization.value == \"Chart\":\n",
        "  data.show_chart(program)\n",
        "elif visualization.value == \"Table\":\n",
        "  data.show_data(program)"
      ],
      "execution_count": null,
      "outputs": []
    },
    {
      "cell_type": "code",
      "metadata": {
        "id": "iBjqdwr1ckrs"
      },
      "source": [
        "# (c)\n",
        "if ( len( data.results[program] ) > 0 ):\n",
        "  write_dataset( df=data.results[program], base=program, type=region.value, state=\"\", region=region.value )\n",
        "  print( \"Saved!\" )\n",
        "else:\n",
        "  print( \"There is no data for this program and region.\" )"
      ],
      "execution_count": null,
      "outputs": []
    },
    {
      "cell_type": "markdown",
      "metadata": {
        "id": "R5Rk9IpafURq"
      },
      "source": [
        "# 6. Looking at Discharge Monitoring Reports\n",
        "![Instructions for investigating DMRs](https://github.com/edgi-govdata-archiving/EEW-Image-Assets/blob/main/dmr_instructions.png?raw=true) \n"
      ]
    },
    {
      "cell_type": "code",
      "metadata": {
        "id": "AxXjyufKgl7W"
      },
      "source": [
        "# (a)\n",
        "data.add(\"2020 Discharge Monitoring\") # Adds the requisite data if it's not already added\n",
        "\n",
        "facility_list = list(data.results[\"2020 Discharge Monitoring\"][ 'FAC_NAME' ].unique())\n",
        "facility_list.sort()\n",
        "facility_widget = widgets.SelectMultiple(\n",
        "    options = facility_list,\n",
        "    description='Facility:',\n",
        "    disabled=False,\n",
        ")\n",
        "display(facility_widget)\n",
        "param_list = list(data.results[\"2020 Discharge Monitoring\"][ 'PARAMETER_DESC' ].unique())\n",
        "param_list.sort()\n",
        "param_widget = widgets.SelectMultiple(\n",
        "    options = param_list,\n",
        "    description = 'Parameter:',\n",
        "    disabled = False\n",
        ")\n",
        "display(param_widget)\n",
        "display(visualization)"
      ],
      "execution_count": null,
      "outputs": []
    },
    {
      "cell_type": "code",
      "metadata": {
        "id": "xOd-HYy9iHl7"
      },
      "source": [
        "# (b)\n",
        "data.results[\"2020 DMR Filtered\"] = data.results[\"2020 Discharge Monitoring\"]\n",
        "\n",
        "if (len(facility_widget.value) == 0): # if no facilities actually selected, select all\n",
        "  facility_widget.value = facility_list\n",
        "if (len(param_widget.value) == 0): # if no parameters actually selected, select all\n",
        "  param_widget.value = param_list\n",
        "data.results[\"2020 DMR Filtered\"] = data.results[\"2020 DMR Filtered\"].loc[(\n",
        "    data.results[\"2020 DMR Filtered\"][ 'FAC_NAME' ].isin(facility_widget.value) & \n",
        "    data.results[\"2020 DMR Filtered\"][ 'PARAMETER_DESC' ].isin(param_widget.value))]\n",
        "\n",
        "# Create a custom-named program table \"2020 DMR Filtered\" for the Echo class based on the 2020 Discharge Monitoring table\n",
        "presets.attribute_tables[\"2020 DMR Filtered\"] = presets.attribute_tables[\"2020 Discharge Monitoring\"]\n",
        "\n",
        "if visualization.value == \"Map\":\n",
        "  data.show_program_map(\"2020 DMR Filtered\")\n",
        "elif visualization.value == \"Chart\":\n",
        "  data.show_chart(\"2020 DMR Filtered\")\n",
        "elif visualization.value == \"Table\":\n",
        "  data.show_data(\"2020 DMR Filtered\")"
      ],
      "execution_count": null,
      "outputs": []
    },
    {
      "cell_type": "code",
      "metadata": {
        "id": "JYROLGAlddL6"
      },
      "source": [
        "# (c)\n",
        "if ( len( data.results[\"2020 DMR Filtered\"] ) > 0 ):\n",
        "  write_dataset( df=data.results[\"2020 DMR Filtered\"], base=\"2020 DMR Filtered\", type=region.value, state=\"\", region=region.value )\n",
        "  print( \"Saved!\" )\n",
        "else:\n",
        "  print( \"There is no data available to save.\" )"
      ],
      "execution_count": null,
      "outputs": []
    },
    {
      "cell_type": "markdown",
      "metadata": {
        "id": "wHPwC3NON-99"
      },
      "source": [
        "# 7. Share your work!\n",
        "![Instructions for sharing results](https://github.com/edgi-govdata-archiving/EEW-Image-Assets/blob/main/share_instructions.png?raw=true) "
      ]
    },
    {
      "cell_type": "markdown",
      "metadata": {
        "id": "vTVr736UOCAW"
      },
      "source": [
        "# 8. Tell us what you found, whether anything went wrong, or if you would like to arrange a 1:1 workshop.\n",
        "Send an email to environmentalenforcementwatch@gmail.com or reach us on Twitter [@EEW_Network](https://www.twitter.com/eew_network)"
      ]
    }
  ]
}