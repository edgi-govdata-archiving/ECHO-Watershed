{
 "cells": [
  {
   "cell_type": "markdown",
   "metadata": {
    "id": "Ylalhm0wbt2p"
   },
   "source": [
    "| ![EEW logo](https://github.com/edgi-govdata-archiving/EEW-Image-Assets/blob/master/Jupyter%20instructions/eew.jpg?raw=true) | ![EDGI logo](https://github.com/edgi-govdata-archiving/EEW-Image-Assets/blob/master/Jupyter%20instructions/edgi.png?raw=true) |\n",
    "|---|---|\n",
    "\n",
    "#### This notebook is licensed under GPL 3.0. Please visit our Github repo for more information: \n",
    "#### The notebook was collaboratively authored by the Environmental Data & Governance Initiative (EDGI) following our authorship protocol: https://docs.google.com/document/d/1CtDN5ZZ4Zv70fHiBTmWkDJ9mswEipX6eCYrwicP66Xw/\n",
    "#### For more information about this project, visit https://www.environmentalenforcementwatch.org/"
   ]
  },
  {
   "cell_type": "markdown",
   "metadata": {
    "id": "xwpXPiNLbt2x"
   },
   "source": [
    "## How to Run this Notebook\n",
    "* If you click on a gray **code** cell, a little “play button” arrow appears on the left. If you click the play button, it will run the code in that cell (“**running** a cell”). The button will animate. When the animation stops, the cell has finished running.\n",
    "![Where to click to run the cell](https://github.com/edgi-govdata-archiving/EEW-Image-Assets/blob/master/Jupyter%20instructions/pressplay.JPG?raw=true)\n",
    "* You may get a warning that the notebook was not authored by Google. We know, we authored them! It’s okay. Click “Run Anyway” to continue. \n",
    "![Error Message](https://github.com/edgi-govdata-archiving/EEW-Image-Assets/blob/master/Jupyter%20instructions/warning-message.JPG?raw=true)\n",
    "* Run all of the cells in a Notebook to make a complete report. Please feel free to look at and **learn about each result as you create it**!\n",
    "\n",
    "---"
   ]
  },
  {
   "cell_type": "markdown",
   "metadata": {
    "id": "vU4AqThS-37L"
   },
   "source": [
    "# Watershed statistics from ECHO"
   ]
  },
  {
   "cell_type": "markdown",
   "metadata": {
    "id": "czia5t5ebt20"
   },
   "source": [
    "Here we load some helper code to get us going. If your environment already has these loaded this cell may be skipped. (If you're not sure, it's best to run this cell!)"
   ]
  },
  {
   "cell_type": "code",
   "execution_count": null,
   "metadata": {
    "id": "vF3iTaeCbt23",
    "scrolled": true
   },
   "outputs": [],
   "source": [
    "# We have a folder of chunks of reusable code that we're using across different\n",
    "#  Notebooks. This step goes and gets the relevant code from that folder so we\n",
    "#  can use it here. (https://github.com/edgi-govdata-archiving/ECHO_modules/tree/watershed-geo)\n",
    "!git clone https://github.com/edgi-govdata-archiving/ECHO_modules.git -b watershed-geo 2> clone.txt 1> stderr.txt\n",
    "\n",
    "# Geopandas is an open source library for working with geographic data using the\n",
    "#   data structures library \"pandas\" (common in Python for data processing).\n",
    "#   (https://geopandas.org/)\n",
    "!pip install geopandas 1>> stderr.txt\n",
    "\n",
    "# Topojson is an open source library that lets us keep file sizes small when\n",
    "#   working with geographic data, so the Notebooks can run faster while still\n",
    "#   working with detailed shapes. (https://github.com/mattijn/topojson)\n",
    "!pip install topojson 1>> stderr.txt\n",
    "# This code block will print a lot of data as it fetches and installs the libraries\n",
    "#   Specified above. When it's done, the line below lets us know by printing \"Done!\"\n",
    "print(\"Done!\")"
   ]
  },
  {
   "cell_type": "markdown",
   "metadata": {
    "id": "uvkw5ova-lXx"
   },
   "source": [
    "This cell must be run to bring in some utility functions."
   ]
  },
  {
   "cell_type": "code",
   "execution_count": null,
   "metadata": {
    "id": "kRRnBhqU-lXx"
   },
   "outputs": [],
   "source": [
    "# The previous step installed the libraries (explained above); this tells our\n",
    "#   Notebook how to refer to them.\n",
    "import geopandas as geopandas\n",
    "import topojson as tp\n",
    "\n",
    "# These code blocks come from our folder (https://github.com/edgi-govdata-archiving/ECHO_modules/blob/watershed-geo/make_data_sets.py)\n",
    "# Each of the files contains a series of function definitions. By running\n",
    "#   those files here, we make the functions available in this Notebook.\n",
    "%run ECHO_modules/DataSet.py\n",
    "%run ECHO_modules/utilities.py\n",
    "%run ECHO_modules/make_data_sets.py\n",
    "print(\"Done!\")"
   ]
  },
  {
   "cell_type": "markdown",
   "metadata": {
    "id": "We7JGCaxWIFF"
   },
   "source": [
    "Select the state you want to look more closely at. "
   ]
  },
  {
   "cell_type": "code",
   "execution_count": null,
   "metadata": {
    "id": "uSnqlusE2-A8"
   },
   "outputs": [],
   "source": [
    "# Create a widget that can be used to select a state\n",
    "states_w = show_state_widget()"
   ]
  },
  {
   "cell_type": "markdown",
   "metadata": {
    "id": "8kx5TlXdWOUm"
   },
   "source": [
    "Run this cell to load watershed data. It may take some time depending on the state you're looking at!  (Watershed boundaries are complex polygons, and if the state has many of them it is a lot of data to load.)"
   ]
  },
  {
   "cell_type": "code",
   "execution_count": null,
   "metadata": {
    "id": "Ai3AckBP-zRV",
    "scrolled": true
   },
   "outputs": [],
   "source": [
    "# In this cell, we are building a query using the SQL language so we can get\n",
    "#   information from the database about the places we're interested in\n",
    "\n",
    "# Use the selections from the state-selecting widget from the previous block\n",
    "#   to create a list of the states we're interested in\n",
    "states_where = ' WHERE states LIKE \\'%' + states_w.value + '%\\''\n",
    "\n",
    "# Load data from the Stony Brook University mirror of EPA's ECHO database\n",
    "# https://gis.stackexchange.com/questions/112057/sql-query-to-have-a-complete-geojson-feature-from-postgis\n",
    "\n",
    "# This builds the query by appending details about our request to the variable \"sql\"\n",
    "sql = \"\"\"\n",
    "    SELECT jsonb_build_object(\n",
    "        'type', 'FeatureCollection', 'features', jsonb_agg(features.feature)\n",
    "    )\n",
    "    FROM (\n",
    "        SELECT jsonb_build_object(\n",
    "            'type', 'Feature','id', gid, 'geometry',\n",
    "            ST_AsGeoJSON(geom)::jsonb,'properties',\n",
    "            to_jsonb(inputs) - 'gid' - 'geom'\n",
    "        ) AS feature\n",
    "        FROM (\n",
    "            SELECT *\n",
    "            FROM \"wbdhu8\"\n",
    "\"\"\"\n",
    "sql += states_where\n",
    "sql += \"\"\"\n",
    "        ) inputs\n",
    "    ) features;\n",
    "\"\"\"\n",
    "\n",
    "# The URL here is the location of the database we're requesting from\n",
    "url= 'http://portal.gss.stonybrook.edu/echoepa/index2.php?query=' # Old server: 'http://apps.tlt.stonybrook.edu/echoepa/index2.php?query='\n",
    "data_location=url+urllib.parse.quote_plus(sql) + '&pg'\n",
    "print(sql) # For debugging\n",
    "print(data_location) # For debugging\n",
    "\n",
    "# Here, we check to make sure we can read the data we got back\n",
    "gdf=None\n",
    "try:\n",
    "  gdf = geopandas.read_file(data_location)\n",
    "  print(\"Data loaded. Now to map it!\")\n",
    "except:\n",
    "  print('Something went wrong!')"
   ]
  },
  {
   "cell_type": "markdown",
   "metadata": {
    "id": "YEag5jFMWTAm"
   },
   "source": [
    "Map the watersheds in this state. It may take some time depending on the state you're looking at! It may also \"disconnect\" if there are a lot of watersheds. Still, you can just skip to the next step (\"Pick a specific watershed...\")"
   ]
  },
  {
   "cell_type": "code",
   "execution_count": null,
   "metadata": {
    "id": "ZXXi-rF6KmED",
    "scrolled": true
   },
   "outputs": [],
   "source": [
    "# Load map data\n",
    "import json\n",
    "\n",
    "x = tp.Topology(gdf, toposimplify=.01) # Simplify and topologize the watershed boundaries in order to reduce the file size\n",
    "x = x.to_json() # save as topojson\n",
    "y = json.loads(x) # load as json\n",
    "\n",
    "# create the map using a library called Folium (https://github.com/python-visualization/folium)\n",
    "m = folium.Map()\n",
    "w = folium.TopoJson(\n",
    "    y,\n",
    "    'objects.data',\n",
    "    name = \"Watersheds\",\n",
    ").add_to(m)\n",
    "folium.GeoJsonTooltip(fields=[\"name\"]).add_to(w)\n",
    "\n",
    "# compute boundaries so that the map automatically zooms in\n",
    "b1 = [list(gdf.total_bounds)[1],list(gdf.total_bounds)[0]]\n",
    "b2 = [list(gdf.total_bounds)[3],list(gdf.total_bounds)[2]]\n",
    "bounds = [b1,b2] #m.fit_bounds([[52.193636, -2.221575], [52.636878, -1.139759]])\n",
    "m.fit_bounds(bounds)\n",
    "\n",
    "# display the map!\n",
    "display(m)"
   ]
  },
  {
   "cell_type": "markdown",
   "metadata": {
    "id": "ZRhbFbjuW0gE"
   },
   "source": [
    "Pick specific watersheds. Ctrl+click to add to the selection, Shift+click to extend the selection."
   ]
  },
  {
   "cell_type": "code",
   "execution_count": null,
   "metadata": {
    "id": "nh9ASlSV-lXz"
   },
   "outputs": [],
   "source": [
    "try :\n",
    "    gdf.set_index(\"name\", inplace=True) # Edit to not alter the gdf\n",
    "except KeyError:\n",
    "    # If the cell is run twice the index is already set and \"name\" is not available\n",
    "    pass\n",
    "\n",
    "# Find the \"HUC\" codes, which are a proxy the EPA uses for watersheds, in the regions of interest  \n",
    "hucs = gdf.index.unique()\n",
    "\n",
    "# Set up a widget for selecting watersheds of interest\n",
    "watershed_w = widgets.SelectMultiple(\n",
    "    options= hucs.sort_values(),\n",
    "    description='Watershed:',\n",
    "    disabled=False,\n",
    ")\n",
    "\n",
    "# Display the widget\n",
    "watershed_w"
   ]
  },
  {
   "cell_type": "markdown",
   "metadata": {
    "id": "S5Qw3lkzXPhi"
   },
   "source": [
    "Get basic information about facilities in this watershed. If no facilities are found, see the \"Alternative\" section below."
   ]
  },
  {
   "cell_type": "code",
   "execution_count": null,
   "metadata": {},
   "outputs": [],
   "source": [
    "# Create a list of all HUCs selected by ID \n",
    "hucs = []\n",
    "for x in watershed_w.value:\n",
    "    huc = gdf.at[ x, \"huc8\" ]\n",
    "    huc = float( huc )\n",
    "    hucs.append( huc )\n",
    "# Fetch the relevant data from the database \n",
    "full_echo_data = get_active_facilities( state=None, region_type='Watershed',\n",
    "                                      regions_selected=hucs )\n",
    "use_zips = False\n",
    "if ( not full_echo_data.empty ):\n",
    "    display( full_echo_data )"
   ]
  },
  {
   "cell_type": "markdown",
   "metadata": {},
   "source": [
    "### Alternative, if facilities are not found\n",
    "\n",
    "If the previous query returned facilities successfully you can skip the next few cells, down to \"Map these facilities\".\n",
    "\n",
    "The EPA's data is not always consistent with its watershed identifiers.  If no facilities are returned in the previous cell, you can identify facilities instead by zip codes that are in the watershed region.\n",
    "\n",
    "Here is a map for looking up zip codes: https://www.unitedstateszipcodes.org/.  Here is another: https://zipmap.net/.\n",
    "\n",
    "You can enter multiple zip codes separated by commas.  "
   ]
  },
  {
   "cell_type": "code",
   "execution_count": null,
   "metadata": {},
   "outputs": [],
   "source": [
    "use_zips = True\n",
    "zip_widget = None\n",
    "zip_widget = show_pick_region_widget( type='Zip Code' )"
   ]
  },
  {
   "cell_type": "code",
   "execution_count": null,
   "metadata": {},
   "outputs": [],
   "source": [
    "zips_selected = get_regions_selected( region_type='Zip Code', region_widget=zip_widget )\n",
    "full_echo_data = get_active_facilities( state=None, region_type='Zip Code', \n",
    "                                  regions_selected=zips_selected )\n",
    "display( full_echo_data )"
   ]
  },
  {
   "cell_type": "markdown",
   "metadata": {
    "id": "tPHCnAKkZrIk"
   },
   "source": [
    "### Map these facilities."
   ]
  },
  {
   "cell_type": "code",
   "execution_count": null,
   "metadata": {
    "id": "IvGDL996-lX1"
   },
   "outputs": [],
   "source": [
    "# Create a map of the facilities in the specified watershed area(s) using Folium\n",
    "if ( full_echo_data is not None ):\n",
    "    map_of_facilities = mapper(full_echo_data) # Some errors not caught here...\n",
    "    this_watershed = gdf.loc[gdf.index.isin( watershed_w.value )]\n",
    "    w = folium.GeoJson(\n",
    "      this_watershed,\n",
    "      name = \"Watershed\",\n",
    "    ).add_to(map_of_facilities)\n",
    "    display( map_of_facilities ) \n",
    "else:\n",
    "    print( \"There are no facilities in the watershed.\" ) "
   ]
  },
  {
   "cell_type": "markdown",
   "metadata": {
    "id": "HommAX7mbYE2"
   },
   "source": [
    "Are the facilities complying with the Clean Water Act? Top violators over the past 13 quarters."
   ]
  },
  {
   "cell_type": "code",
   "execution_count": null,
   "metadata": {
    "id": "btWsrkVlbeyl"
   },
   "outputs": [],
   "source": [
    "# Use the function get_top_violators from our imported utilities.py file (https://github.com/edgi-govdata-archiving/ECHO_modules/blob/watershed-geo/utilities.py)\n",
    "df_violators = get_top_violators( full_echo_data, 'NPDES_FLAG', \n",
    "        'CWA_13QTRS_COMPL_HISTORY', 'CWA_FORMAL_ACTION_COUNT', 90 )\n",
    "display( chart_top_violators( df_violators, watershed_w.value, \"Watershed\", 'CWA' ))"
   ]
  },
  {
   "cell_type": "markdown",
   "metadata": {
    "id": "3k4eE6g_atLj"
   },
   "source": [
    "Get more detailed, program-specific data for these facilities (e.g. longer-term historical [non]compliance with the Clean Water Act). First, select the program."
   ]
  },
  {
   "cell_type": "code",
   "execution_count": null,
   "metadata": {
    "id": "A33K-FjrZ3zC"
   },
   "outputs": [],
   "source": [
    "# Define the data sets we're interested in learning about\n",
    "data_set_list = ['CWA Violations', 'CWA Inspections', 'CWA Penalties', \n",
    "                 '2020 Discharge Monitoring',] \n",
    "\n",
    "# Use the function make_data_sets (imported from https://github.com/edgi-govdata-archiving/ECHO_modules/blob/watershed-geo/make_data_sets.py)\n",
    "data_sets = make_data_sets( data_set_list )\n",
    "\n",
    "# Use the function show_data_set_widget (imported from https://github.com/edgi-govdata-archiving/ECHO_modules/blob/watershed-geo/utilities.py)\n",
    "data_set_widget = show_data_set_widget( data_sets ) \n",
    "\n",
    "#Note: we might consider limiting to CWA/SDWA given the watershed-focus of this notebook"
   ]
  },
  {
   "cell_type": "markdown",
   "metadata": {
    "id": "e2F5WUKZbBM6"
   },
   "source": [
    "Get the data from the Stony Brook University database. "
   ]
  },
  {
   "cell_type": "code",
   "execution_count": null,
   "metadata": {
    "id": "_FrDjTuZayCy",
    "scrolled": true
   },
   "outputs": [],
   "source": [
    "# Use the selection from the widget above to save data from that program\n",
    "program = data_sets[ data_set_widget.value ]\n",
    "if ( use_zips ):\n",
    "    program_results = program.store_results( region_type=\"Zip Code\", region_value=zips_selected )\n",
    "else:\n",
    "    program_results = program.store_results( region_type=\"Watershed\", region_value=hucs, state=states_w.value )\n",
    "program_data = None\n",
    "\n",
    "# Print the data about the program\n",
    "if ( program_results is not None and program_results.dataframe is not None ):\n",
    "    program_data = program_results.dataframe.copy()\n",
    "\n",
    "    display( program_data )\n",
    "else:\n",
    "    print( \"There is no data for this data set in this watershed.\")"
   ]
  },
  {
   "cell_type": "markdown",
   "metadata": {
    "id": "1DTIC2fzp3XQ"
   },
   "source": [
    "Pollutant discharge data. We will pull up what facilities reported discharging into this watershed. "
   ]
  },
  {
   "cell_type": "code",
   "execution_count": null,
   "metadata": {
    "id": "sfwckgz9-lX2"
   },
   "outputs": [],
   "source": [
    "dmr_data_set = data_sets['2020 Discharge Monitoring']\n",
    "dmr_results = dmr_data_set.store_results( region_type=\"Watershed\", region_value=hucs, state=states_w.value )\n",
    "dmr_data = None\n",
    "if ( dmr_results is not None ):\n",
    "    dmr_data = dmr_results.dataframe.copy()\n",
    "\n",
    "    display( dmr_data )\n",
    "else:\n",
    "    print( \"There is no discharge monitoring data for this data set in this watershed.\")"
   ]
  },
  {
   "cell_type": "markdown",
   "metadata": {
    "id": "5v-B7fLu-lX2"
   },
   "source": [
    "### At this point you can follow two different approaches.  "
   ]
  },
  {
   "cell_type": "markdown",
   "metadata": {
    "id": "WOZmfBpv-lX2"
   },
   "source": [
    "1.  You can choose to see a set of facilities in the watersheds, then view and select from the pollutants discharged by those facilities. Run the cells starting with A below.\n",
    "2.  You can choose to see all of the pollutants from all of the facilities in the selected watersheds, then pick specific pollutants and see which of the facilities are discharge. Skip down to the cells starting at B."
   ]
  },
  {
   "cell_type": "markdown",
   "metadata": {
    "id": "kRBwaMtx-lX2"
   },
   "source": [
    "Note:  Run through the cells in each section in sequence.  For example, if you run through section A, then section B, then want to come back and look at different facilities/pollutants in section A, be sure and run the cells in section A again in the order they are presented."
   ]
  },
  {
   "cell_type": "markdown",
   "metadata": {
    "id": "WONQt3Yv-lX3"
   },
   "source": [
    "### A.  Select one or more of the facilities.  To select multiple, use Ctrl+click to add, Shift+click to extend."
   ]
  },
  {
   "cell_type": "code",
   "execution_count": null,
   "metadata": {
    "id": "vHo6Npf5-lX3"
   },
   "outputs": [],
   "source": [
    "# Create a widget that lists the facilities with discharge monitoring in the\n",
    "#   selected watershed area(s)\n",
    "facility_list = dmr_data[ 'FAC_NAME' ].unique()\n",
    "facility_list.sort()\n",
    "facility_w = widgets.SelectMultiple(\n",
    "    options= facility_list,\n",
    "    description='Facility:',\n",
    "    disabled=False,\n",
    ")\n",
    "# Display the widget\n",
    "facility_w"
   ]
  },
  {
   "cell_type": "markdown",
   "metadata": {
    "id": "QRz6IxJG-lX3"
   },
   "source": [
    "Select one or more of the pollutants from these facilities."
   ]
  },
  {
   "cell_type": "code",
   "execution_count": null,
   "metadata": {
    "id": "F1VVUgnf-lX3"
   },
   "outputs": [],
   "source": [
    "# Create a widget for selection of pollutant(s) of interest\n",
    "selected_facs = facility_w.value\n",
    "dmr_fac_data = dmr_data[ dmr_data['FAC_NAME'].isin( selected_facs )]\n",
    "\n",
    "param_list = dmr_fac_data[ 'PARAMETER_DESC' ].unique()\n",
    "param_list.sort()\n",
    "param_w = widgets.SelectMultiple(\n",
    "    options = param_list,\n",
    "    description = 'Parameter:',\n",
    "    disabled = False\n",
    ")\n",
    "# Display the widget\n",
    "param_w"
   ]
  },
  {
   "cell_type": "markdown",
   "metadata": {
    "id": "DjcHJWXP-lX4"
   },
   "source": [
    "These are the discharges of the selected parameters from the selected facilities."
   ]
  },
  {
   "cell_type": "code",
   "execution_count": null,
   "metadata": {
    "id": "A4790Nmc-lX4"
   },
   "outputs": [],
   "source": [
    "# Fetch the data associated with the selected facility(ies) and pollutant(s)\n",
    "selected_params = param_w.value\n",
    "dmr_param_data = dmr_fac_data[ dmr_fac_data['PARAMETER_DESC'].isin( selected_params )]\n",
    "# print( dmr_param_data )\n",
    "print( dmr_param_data.loc[:,[ 'FAC_NAME', 'PARAMETER_CODE', 'PARAMETER_DESC', 'LIMIT_VALUE_NMBR', 'LIMIT_VALUE_QUALIFIER_CODE',\n",
    "              'LIMIT_VALUE_TYPE_CODE', 'VIOLATION_CODE']] )"
   ]
  },
  {
   "cell_type": "markdown",
   "metadata": {
    "id": "hgrDeYZu-lX4"
   },
   "source": [
    "View a map of only those selected facilities that have discharged the selected pollutant."
   ]
  },
  {
   "cell_type": "code",
   "execution_count": null,
   "metadata": {
    "id": "ho8mWgZo-lX4"
   },
   "outputs": [],
   "source": [
    "# Map facilities matching criteria using Folium\n",
    "if ( dmr_param_data is not None ):\n",
    "    map_of_facilities = mapper(dmr_param_data) # Some errors not caught here...\n",
    "    this_watershed = gdf.loc[gdf.index.isin( watershed_w.value )]\n",
    "    w = folium.GeoJson(\n",
    "      this_watershed,\n",
    "      name = \"Watershed\",\n",
    "    ).add_to(map_of_facilities)\n",
    "    display( map_of_facilities ) \n",
    "else:\n",
    "    print( \"There are no facilities in the watershed.\" ) "
   ]
  },
  {
   "cell_type": "markdown",
   "metadata": {
    "id": "_7JYQyPs-lX4"
   },
   "source": [
    "Write the data to a file."
   ]
  },
  {
   "cell_type": "code",
   "execution_count": null,
   "metadata": {
    "id": "sHz5zyuX-lX4"
   },
   "outputs": [],
   "source": [
    "dmr_param_data.to_csv( 'Discharge-by-facilities-pollutants.csv')"
   ]
  },
  {
   "cell_type": "markdown",
   "metadata": {
    "id": "mlDjMwn--lX5"
   },
   "source": [
    "### B. We start again with all of the facilities in the selected watersheds.  We view the pollutants discharged by these facilities"
   ]
  },
  {
   "cell_type": "markdown",
   "metadata": {
    "id": "S0dqB-LX1I-C"
   },
   "source": [
    "Select specific pollutants."
   ]
  },
  {
   "cell_type": "code",
   "execution_count": null,
   "metadata": {
    "id": "W8qIFfO4-lX5"
   },
   "outputs": [],
   "source": [
    "param_list = dmr_data[ 'PARAMETER_DESC' ].unique()\n",
    "param_list.sort()\n",
    "param_w = widgets.SelectMultiple(\n",
    "    options = param_list,\n",
    "    description = 'Parameter:',\n",
    "    disabled = False\n",
    ")\n",
    "param_w"
   ]
  },
  {
   "cell_type": "markdown",
   "metadata": {
    "id": "hA58jl6Z-lX5"
   },
   "source": [
    "Map the facilities that discharge these pollutants."
   ]
  },
  {
   "cell_type": "code",
   "execution_count": null,
   "metadata": {
    "id": "U58hD7eu-lX5"
   },
   "outputs": [],
   "source": [
    "selected_params = param_w.value\n",
    "dmr_param_data = dmr_data[ dmr_data['PARAMETER_DESC'].isin( selected_params )]\n",
    "dmr_param_fac_data = dmr_param_data[['FAC_NAME','DFR_URL','FAC_LAT','FAC_LONG']].drop_duplicates()\n",
    "\n",
    "if ( dmr_param_data is not None ):\n",
    "    map_of_facilities = mapper(dmr_param_fac_data) # Some errors not caught here...\n",
    "    this_watershed = gdf.loc[gdf.index.isin( watershed_w.value )]\n",
    "    w = folium.GeoJson(\n",
    "      this_watershed,\n",
    "      name = \"Watershed\",\n",
    "    ).add_to(map_of_facilities)\n",
    "    display( map_of_facilities ) \n",
    "else:\n",
    "    print( \"There are no facilities in the watershed.\" ) "
   ]
  },
  {
   "cell_type": "markdown",
   "metadata": {
    "id": "A9c7WFKZ-lX5"
   },
   "source": [
    "Select from among the facilities discharging these pollutants.  For example, you might select facilities lying along a particular waterway within the watersheds."
   ]
  },
  {
   "cell_type": "code",
   "execution_count": null,
   "metadata": {
    "id": "E7aL76nx-lX5"
   },
   "outputs": [],
   "source": [
    "facility_list = dmr_param_fac_data[ 'FAC_NAME' ].tolist()\n",
    "facility_list.sort()\n",
    "facility_w = widgets.SelectMultiple(\n",
    "    options= facility_list,\n",
    "    description='Facility:',\n",
    "    disabled=False,\n",
    ")\n",
    "facility_w"
   ]
  },
  {
   "cell_type": "markdown",
   "metadata": {
    "id": "Hvb3c6NZ-lX6"
   },
   "source": [
    "View the data for the pollutants discharged by these facilities."
   ]
  },
  {
   "cell_type": "code",
   "execution_count": null,
   "metadata": {
    "id": "AaguKO3I-lX6"
   },
   "outputs": [],
   "source": [
    "selected_facs = facility_w.value\n",
    "dmr_fac_data = dmr_param_data[ dmr_param_data['FAC_NAME'].isin( selected_facs )]\n",
    "dmr_fac_data"
   ]
  },
  {
   "cell_type": "markdown",
   "metadata": {
    "id": "5EjJRX4E-lX6"
   },
   "source": [
    "Write the data to a file."
   ]
  },
  {
   "cell_type": "code",
   "execution_count": null,
   "metadata": {
    "id": "ipI9Prxv-lX6"
   },
   "outputs": [],
   "source": [
    "dmr_fac_data.to_csv( 'Discharge-by-pollutants-facilitys.csv')"
   ]
  },
  {
   "cell_type": "markdown",
   "metadata": {
    "id": "iQxI35zp-lX6"
   },
   "source": [
    "### C. This section ... some experimental stuff"
   ]
  },
  {
   "cell_type": "code",
   "execution_count": null,
   "metadata": {
    "id": "825guE601IUY"
   },
   "outputs": [],
   "source": [
    "pollutants_w = widgets.Dropdown(\n",
    "    options= sorted(list(dmr_data[\"PARAMETER_DESC\"].unique())),\n",
    "    description='Pollutant:',\n",
    "    disabled=False,\n",
    ")\n",
    "pollutants_w"
   ]
  },
  {
   "cell_type": "code",
   "execution_count": null,
   "metadata": {},
   "outputs": [],
   "source": [
    "dmr_data.columns.values.tolist()"
   ]
  },
  {
   "cell_type": "code",
   "execution_count": null,
   "metadata": {
    "id": "U4dzdZAjzGxR"
   },
   "outputs": [],
   "source": [
    "this_dmr_data = dmr_data.loc[dmr_data[\"PARAMETER_DESC\"] == pollutants_w.value]\n",
    "\n",
    "# Cataloguing missing information\n",
    "print((this_dmr_data[\"DMR_VALUE_NMBR\"].isna().sum() / len(this_dmr_data) ) *100) # Percent of DMR values for this pollutant missing\n",
    "print(100* this_dmr_data.drop_duplicates(subset=['LIMIT_VALUE_ID'])[\"LIMIT_VALUE_NMBR\"].isna().sum()/len(this_dmr_data.drop_duplicates(subset=['LIMIT_VALUE_ID']))) # percent of LIMIT_VALUE_NMBR not reported. Does not account for stays.\n",
    "#NMBR_OF_SUBMISSION - The attribute stores the number of months for submitting the DMRs for the limit set (e.g., monthly = 1, semi-annually = 6, quarterly = 3); this data element will be blank for Unscheduled Limit Sets. Must be greater than or equal to NMBR_OF_REPORT and be divisible by NMBR_OF_REPORT.\n",
    "#NMBR_OF_REPORT - The number of months in the monitoring period covered by the DMR (e.g., monthly = 1, quarterly = 3, semi-annually = 6). \n",
    "#For example, if NMBR_OF_REPORT is 3, there should be 4 quarterly reports here. If it is 6, there should be 2.\n",
    "# ??? NMBR_OF_REPORT not in the columns?\n",
    "# display(this_dmr_data.groupby([\"LIMIT_VALUE_ID\"])[['NMBR_OF_REPORT']].agg({\"count\", \"first\"})) #first is just a cheap way to record the actual NMBR_OF_REPORT value\n",
    "\n",
    "# Cataloguing important numbers\n",
    "print((len(this_dmr_data) / len(dmr_data)) *100) # share of all reports accounted for by this pollutant\n",
    "print(str(this_dmr_data.drop_duplicates(subset=['LIMIT_VALUE_ID'])[\"LIMIT_VALUE_NMBR\"].sum())+\" \"+this_dmr_data[\"LIMIT_UNIT_DESC\"].unique()[0]) # total permitted value LIMIT_VALUE_NMBR. Assumes units are same.\n",
    "print(np.nanmedian(this_dmr_data[\"EXCEEDENCE_PCT\"])) #median percent over permitted value for this pollutant, excluding NaNs. If the output is nan, all exceedance values are NaN"
   ]
  },
  {
   "cell_type": "code",
   "execution_count": null,
   "metadata": {
    "id": "G7a-wZif-lX6"
   },
   "outputs": [],
   "source": [
    "grouped = dmr_fac_data.loc[:,[ 'FAC_NAME', 'PARAMETER_CODE', 'PARAMETER_DESC', 'LIMIT_VALUE_NMBR', 'LIMIT_VALUE_QUALIFIER_CODE',\n",
    "              'LIMIT_VALUE_TYPE_CODE', 'VIOLATION_CODE']].groupby( ['FAC_NAME', 'PARAMETER_CODE'] )\n",
    "for name, group in grouped:\n",
    "    print( name )\n",
    "    # group.to_csv( \"{}.csv\".format( name ))\n",
    "display( grouped )\n"
   ]
  },
  {
   "cell_type": "markdown",
   "metadata": {
    "id": "8BdDYHLFdCAK"
   },
   "source": [
    "To export the above data as a spreadsheet you can view in Excel, run the code block below. The fiel will appear in the \"Files\" tab on Google Colab (click the folder on the left hand side of the screen."
   ]
  },
  {
   "cell_type": "code",
   "execution_count": null,
   "metadata": {
    "id": "yatOnTTqvVnt"
   },
   "outputs": [],
   "source": [
    "dmr_data.to_csv(\"dmr_data.csv\")"
   ]
  },
  {
   "cell_type": "code",
   "execution_count": null,
   "metadata": {
    "id": "Ko7GkDmj-lX7"
   },
   "outputs": [],
   "source": []
  }
 ],
 "metadata": {
  "colab": {
   "collapsed_sections": [],
   "name": "ECHO-Watershed.ipynb",
   "provenance": [],
   "toc_visible": true
  },
  "kernelspec": {
   "display_name": "Python 3",
   "language": "python",
   "name": "python3"
  },
  "language_info": {
   "codemirror_mode": {
    "name": "ipython",
    "version": 3
   },
   "file_extension": ".py",
   "mimetype": "text/x-python",
   "name": "python",
   "nbconvert_exporter": "python",
   "pygments_lexer": "ipython3",
   "version": "3.7.7"
  }
 },
 "nbformat": 4,
 "nbformat_minor": 1
}
