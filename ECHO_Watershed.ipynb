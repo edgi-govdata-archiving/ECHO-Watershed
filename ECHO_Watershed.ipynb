{
 "cells": [
  {
   "cell_type": "markdown",
   "metadata": {
    "id": "Ylalhm0wbt2p"
   },
   "source": [
    "| ![EEW logo](https://github.com/edgi-govdata-archiving/EEW-Image-Assets/blob/master/Jupyter%20instructions/eew.jpg?raw=true) | ![EDGI logo](https://github.com/edgi-govdata-archiving/EEW-Image-Assets/blob/master/Jupyter%20instructions/edgi.png?raw=true) |\n",
    "|---|---|\n",
    "\n",
    "#### This notebook is licensed under GPL 3.0. Please visit our Github repo for more information: \n",
    "#### The notebook was collaboratively authored by the Environmental Data & Governance Initiative (EDGI) following our authorship protocol: https://docs.google.com/document/d/1CtDN5ZZ4Zv70fHiBTmWkDJ9mswEipX6eCYrwicP66Xw/\n",
    "#### For more information about this project, visit https://www.environmentalenforcementwatch.org/"
   ]
  },
  {
   "cell_type": "markdown",
   "metadata": {
    "id": "vB-HOC1zkTL0"
   },
   "source": [
    "*Note: This notebook pulls data from a copy of EPA's ECHO database hosted by Stony Brook University. The data sets are updated on a weekly basis, meaning that some of the results from your run may not exactly match those in other EEW data products or from your previous run.* "
   ]
  },
  {
   "cell_type": "markdown",
   "metadata": {
    "id": "2s6QoolUEFKK"
   },
   "source": [
    "# EEW's Watershed Notebook\n",
    "\n",
    "---\n",
    "\n",
    "\n",
    "\n",
    "This is a Jupyter Notebook (a way to organize Python code) hosted on a platform known as Google Colab. Hosting on Google Colab allows you to access and visualize data without actually needing to do any coding! \n",
    "\n",
    "Here we use [EPA's ECHO database](https://echo.epa.gov/) to understand who is polluting what and where in watersheds across the United States. We acheive this by accessing data related to the Clean Water Act. More information on the Clean Water Act can be found [here](https://docs.google.com/presentation/d/1g6ZN3B5jvs3F1VAigiUtNNezjXdJnzuELfo9Deo9Y2w/edit?usp=sharing). \n",
    "\n",
    "\n",
    "This notebook asks you to select a geographic area you probably know for your area of interest—**a zipcode**—and finds the USGS watershed boundaries, known as a Hydrologic Unit Code or **HUC code**, that intersect with the zipcode. The rest of the notebook gathers information about facilities that report under the Clean Water Act in the watersheds. \n",
    "\n",
    "Be sure to read the instructions in \"How to Run\" (below) and the notes above each cell for important tips and context! "
   ]
  },
  {
   "cell_type": "markdown",
   "metadata": {
    "id": "Ux5rgSJykyLe"
   },
   "source": [
    "## How to Run\n",
    "* A \"cell\" in a Jupyter Notebook is a block of code performing a set of actions making available or using specific data.  The notebook works by running one cell after another as the notebook user selects offered options.\n",
    "* \n",
    "If you click on a gray **code** cell, a little “play button” arrow appears on the left. If you click the play button, it will run the code in that cell (“**running** a cell”). The button will animate. When the animation stops, the cell has finished running.\n",
    "![Where to click to run the cell](https://github.com/edgi-govdata-archiving/EEW-Image-Assets/blob/master/Jupyter%20instructions/pressplay.JPG?raw=true)\n",
    "* When you run the first cell, you may get a warning that the notebook was not authored by Google. We know, we authored them! It’s okay. Click “Run Anyway” to continue. \n",
    "![Error Message](https://github.com/edgi-govdata-archiving/EEW-Image-Assets/blob/master/Jupyter%20instructions/warning-message.JPG?raw=true)\n",
    "* **It is important to run cells in order because they depend on each other.** However, some cells are optional. That will be indicated in the text below those cells. "
   ]
  },
  {
   "cell_type": "markdown",
   "metadata": {
    "id": "czia5t5ebt20"
   },
   "source": [
    "# 1. Begin! \n",
    "Here we load some helper code to get us going. If your environment already has these loaded this cell may be skipped. (If you're not sure, it's best to run this cell!) You'll know this is completed when a small \"Done!\" appears at the bottom of the gray cell (right before Step 2). "
   ]
  },
  {
   "cell_type": "code",
   "execution_count": 1,
   "metadata": {
    "id": "vF3iTaeCbt23",
    "scrolled": true
   },
   "outputs": [
    {
     "name": "stdout",
     "output_type": "stream",
     "text": [
      "Done!\n"
     ]
    }
   ],
   "source": [
    "# We have a folder of chunks of reusable code that we're using across different\n",
    "#  Notebooks. This step goes and gets the relevant code from that folder so we\n",
    "#  can use it here. (https://github.com/edgi-govdata-archiving/ECHO_modules/)\n",
    "!git clone https://github.com/edgi-govdata-archiving/ECHO_modules.git -b reorganization &>/dev/null;\n",
    "\n",
    "# Geopandas is an open source library for working with geographic data using the\n",
    "#   data structures library \"pandas\" (common in Python for data processing).\n",
    "#   (https://geopandas.org/)\n",
    "!pip install geopandas  &>/dev/null;\n",
    "\n",
    "# Topojson is an open source library that lets us keep file sizes small when\n",
    "#   working with geographic data, so the Notebooks can run faster while still\n",
    "#   working with detailed shapes. (https://github.com/mattijn/topojson)\n",
    "!pip install topojson &>/dev/null;\n",
    "\n",
    "# Install rtree to enable geopandas to clip data spatially\n",
    "!pip install rtree &>/dev/null;\n",
    "\n",
    "import warnings\n",
    "warnings.filterwarnings('ignore')\n",
    "\n",
    "# This code block will print a lot of data as it fetches and installs the libraries\n",
    "#   Specified above. When it's done, the line below lets us know by printing \"Done!\"\n",
    "print(\"Done!\")"
   ]
  },
  {
   "cell_type": "markdown",
   "metadata": {
    "id": "uvkw5ova-lXx"
   },
   "source": [
    "# 2. Run some stuff.\n",
    "This cell must be run to bring in some utility functions. Like Step 1, we're just looking for a \"Done!\" at the bottom of this gray cell. "
   ]
  },
  {
   "cell_type": "code",
   "execution_count": null,
   "metadata": {
    "id": "kRRnBhqU-lXx"
   },
   "outputs": [],
   "source": [
    "# These code blocks come from our folder (https://github.com/edgi-govdata-archiving/ECHO_modules/)\n",
    "# Each of the files contains a series of function definitions. By running\n",
    "#   those files here, we make the functions available in this Notebook.\n",
    "%run ECHO_modules/utilities.py\n",
    "%run ECHO_modules/presets.py\n",
    "%run ECHO_modules/class.py\n",
    "print(\"Done!\")"
   ]
  },
  {
   "cell_type": "markdown",
   "metadata": {
    "id": "jI12qR3owd0l"
   },
   "source": [
    "# 3. Where do you want to search?\n",
    "a. Run the following cell to choose which zip code(s) you want to start with. You won't need to know the HUC for your watersheds of interest - we'll find the ones that at least partially cover your zip code(s). Separate each zip code with a comma. For example, if you wanted to list several zipcodes you would do that like this: 98225, 14303, 40218"
   ]
  },
  {
   "cell_type": "code",
   "execution_count": null,
   "metadata": {
    "id": "sXgteF3hN2KV"
   },
   "outputs": [],
   "source": [
    "units = show_pick_region_widget( \"Zip Code\" )\n",
    "units"
   ]
  },
  {
   "cell_type": "markdown",
   "metadata": {
    "id": "jDjDEU4ohKKN"
   },
   "source": [
    "b. Run the cell below to choose whether you want to look at\n",
    "the **HUC8 or HUC10** watershed level. HUC stands for Hydrologic Unit Code and is the method the USGS uses to identify watersheds across the United States. The number after HUC (2,4,6,8,10,12) indicates the number of digits in that particular number, with more digits indicating a smaller watershed. HUC8 describes subbasins, of which there are approx. 2,200 in the U.S. HUC10 is a slightly smaller region, with approx. 20,000 across the United States. The image below, from USGS, helps to visualize this well. \n",
    "![USGS HUC visualization](https://prd-wret.s3.us-west-2.amazonaws.com/assets/palladium/production/s3fs-public/styles/atom_page_medium/public/thumbnails/image/WBD_Base_HUStructure_small.png)\n",
    "\n",
    "Additonal information on HUCs can be found [here](https://nas.er.usgs.gov/hucs.aspx). Run the cell below to choose to look at the HUC8 or HUC10 watershed level.\n",
    "\n",
    "\n"
   ]
  },
  {
   "cell_type": "code",
   "execution_count": null,
   "metadata": {
    "id": "ElO1LK7qL-gk"
   },
   "outputs": [],
   "source": [
    "region_field = {k: v for k, v in region_field.items() if k in [\"HUC8 Watersheds\", \"HUC10 Watersheds\"]}\n",
    "region = show_region_type_widget( region_field )\n",
    "region"
   ]
  },
  {
   "cell_type": "markdown",
   "metadata": {
    "id": "yNm6lylVXX-m"
   },
   "source": [
    "# 4. Get the data!\n",
    "\n",
    "This step pulls the data we need for the selected zipcode(s) and watershed level (HUC) you selected from the copy of the ECHO database. "
   ]
  },
  {
   "cell_type": "code",
   "execution_count": null,
   "metadata": {
    "id": "HB8_n7hMXcN_"
   },
   "outputs": [],
   "source": [
    "units_list = [u for u in str(units.value).split(\",\")] # parse commas\n",
    "data = Echo(units_list, region.value, [], intersection=True, intersecting_geo=\"Zip Codes\") # A configuration specific to this watershed notebook\n",
    "print(\"Done!\")"
   ]
  },
  {
   "cell_type": "markdown",
   "metadata": {
    "id": "h-1Cf-aBYuPa"
   },
   "source": [
    "# 5. Show me the data! \n",
    "First, let's look at all the facilities regulated under the Clean Water Act (CWA) in this area. Most facilities regulated under the CWA are industrial facilties, like a chemical-producing factory, or municipal facilities, like a wastewater treatment plant. \n",
    "\n",
    " The map below displays the watershed that the zipcode(s) you selected are within. You can zoom in to see the names of individual facilities. "
   ]
  },
  {
   "cell_type": "code",
   "execution_count": null,
   "metadata": {
    "id": "9eeGR4JuaDlp"
   },
   "outputs": [],
   "source": [
    "data.show_facility_map()"
   ]
  },
  {
   "cell_type": "markdown",
   "metadata": {
    "id": "F0pEh7EkdoK9"
   },
   "source": [
    "This next chart shows you the top 20 violators in this \n",
    "watershed for the last 13 quarters (last 3 years + most recent quarter). Facilities that have been in violation the same number of quarters are not listed in any particular order. \n",
    "\n",
    "*Because there are often many more than 20 facilities that have been in violation during the last 13 quarters and they are not reported in any partiuclar order, facilities that have been in violation for many quarters may not appear on this chart. You can show more than 20 facilities by changing the number 20 in the code to something else before running the cell.*  \n"
   ]
  },
  {
   "cell_type": "code",
   "execution_count": null,
   "metadata": {
    "id": "qsEG6XUWdqHS"
   },
   "outputs": [],
   "source": [
    "data.show_top_violators(\"CWA\", 20)"
   ]
  },
  {
   "cell_type": "markdown",
   "metadata": {
    "id": "ZNi2O19CaQzC"
   },
   "source": [
    "# 6. Explore!\n",
    "a. There are several components of the Clean Water Act - we are focused on its National Pollutant Discharge Elimination System (NPDES) here. A facility can be *insepected* for compliance with NPDES, it can be found in *violation* of the program, and EPA/state equivalents can levy *enforcement actions* against violating facilities. Additionally, facilities are required to submit reports summarizing their discharges into waterbodies.\n",
    "\n",
    "Select a variable of interest and how you would like to see the data displayed: as a map, chart, or table. You can run this as many times as you want! Change your selection here (drop down and buttons below) then re-run the play button at 6b below.\n",
    "\n",
    "Some more detail about available data:\n",
    "\n",
    "- CWA Violations = The number of times a facility was non-compliant with CWA NPDES in each quarter. There are different kinds of non-compliance (see below).\n",
    "- CWA Inspections = Facility inspections made by regulators.\n",
    "- CWA Enforcements = Data on monetary penalties levied against polluting facilities as well as other enforcement actions such as administrative orders.\n",
    "- Effluent Violations = CWA NPDES violations related to discharges of effluent into waterbodies. This can include violations caused by facilities discharging more than the permitted amount of a substance.\n",
    "- 2020 Discharge Monitoring Reports = Reports on effluent discharges submitted quarterly by facilities. These are checked to determine Effluent Violations.\n",
    "\n",
    "Here's where you can find more detailed definitions of terms used in the data: https://echo.epa.gov/tools/data-downloads/icis-npdes-download-summary"
   ]
  },
  {
   "cell_type": "code",
   "execution_count": null,
   "metadata": {
    "id": "t6McZJQuaXD_"
   },
   "outputs": [],
   "source": [
    "data_sets = {k: v for k, v in attribute_tables.items() if v['echo_type'] == \"NPDES\"}\n",
    "\n",
    "explore = show_data_set_widget( data_sets ) \n",
    "visualization = widgets.ToggleButtons(\n",
    "    options=['Map', 'Chart', 'Table'],\n",
    "    description='Visualization:',\n",
    "    disabled=False,\n",
    "    button_style='success', # 'success', 'info', 'warning', 'danger' or ''\n",
    "    tooltips=['Show a map of facilities', 'Chart data over time', 'Show '],\n",
    ")\n",
    "display(explore)\n",
    "display(visualization)"
   ]
  },
  {
   "cell_type": "markdown",
   "metadata": {
    "id": "_9rv-t4Ja5ZD"
   },
   "source": [
    "b. Map, chart, or show a table of the data of interest. \n",
    "\n",
    "\n",
    "**If you're displaying a map**, the orange circles indicate a facility that matches whatever data variable you're looking at (i.e., if you've selected CWA Inspections, the orange circles would represent facilities that have been inspected since 2001, or if you selected CWA Penalties the orange circles would represent facilities that have been penalized). The black dots indicate other facilities in the watershed that report under the CWA but do not match the specific information you've asked about above. They may have been inspected or penalized, for instance, but we can not determine that from EPA's database. Finally, the size of the orange circle corresponds to the magnitude of the data variable for each facility. For example, if you were looking at penalty data, a facility that was issued a \\$100,000 penalty would have a larger orange circle representing it than a facility that was issued a \\$10,000 penalty. \n",
    "\n",
    "**If you're displaying the CWA Violations chart**, below is a detailed explaination of the legend that will appear:\n",
    "\n",
    "*Teal bar = NUME90Q*: Number of E90 Violations in Quarter. A count of the number of effluent violations (E90) reported in the quarter, defined by YEARQTR.\n",
    "\n",
    "*Orange bar = NUMCVDT*: Number of Compliance Schedule Violations in Quarter. A count of the number of compliance schedule violations reported in the quarter, defined by YEARQTR. A compliance schedule violation is based on if there is a water-quality target that is trying to be reached for a certain pollutant in an area. \n",
    "\n",
    "*Pink bar = NUMSVCD*:Number of Single Event Violations in Quarter. A count of the number of single event violations reported in the quarter, defined by PRHQRTR.\n",
    "\n",
    "*Dark blue bar = NUMPSCH*: Number of Permit Schedule Violations in Quarter. A count of the number of permit schedule violations reported in the quarter, defined by YEARQTR.This type of violations is the majority of violations. They are caused by not submitting reports on time or the like.\n",
    "\n",
    "**If you're displaying the Effluent Violations or DMR charts**, you will see the number of violations or reports per year broken down by chemical.\n",
    "\n",
    "**For other charts**, the green bars will indicate the total number of violations, inspections, or penalties in each year since 2001.\n",
    "\n",
    "More information on definitions can be found [here](https://echo.epa.gov/tools/data-downloads/icis-npdes-download-summary).\n",
    "\n",
    "\n"
   ]
  },
  {
   "cell_type": "code",
   "execution_count": null,
   "metadata": {
    "id": "MqYvYCKBa-qJ"
   },
   "outputs": [],
   "source": [
    "program = explore.value\n",
    "\n",
    "if visualization.value == \"Map\":\n",
    "  data.show_program_map(program)\n",
    "elif visualization.value == \"Chart\":\n",
    "  data.show_chart(program)\n",
    "elif visualization.value == \"Table\":\n",
    "  data.show_data(program)"
   ]
  },
  {
   "cell_type": "markdown",
   "metadata": {
    "id": "XyV8nzKLcld_"
   },
   "source": [
    "c. In this cell you may save the Step 6 data to your computer.\n",
    "After running it, you can access your files by clicking on the 'Files' tab in the menu on the left-hand side of the notebook (it looks like a folder). You may have to hit 'Refresh' if you don't see your file. Then, you can click on the ... next to your file and choose \"Download\". The CSV spreadsheet will download to wherever your browser usually saves files (e.g. Downloads folder)"
   ]
  },
  {
   "cell_type": "code",
   "execution_count": null,
   "metadata": {
    "id": "iBjqdwr1ckrs"
   },
   "outputs": [],
   "source": [
    "if ( len( data.results[program] ) > 0 ):\n",
    "  write_dataset( df=data.results[program], base=program, type=region.value, state=\"\", region=region.value )\n",
    "else:\n",
    "  print( \"There is no data for this program and region.\" )"
   ]
  },
  {
   "cell_type": "markdown",
   "metadata": {
    "id": "R5Rk9IpafURq"
   },
   "source": [
    "# 7. Looking at Discharge Monitoring Reports\n",
    "Here we can focus in on specific facilities and pollutants of interest."
   ]
  },
  {
   "cell_type": "markdown",
   "metadata": {
    "id": "DnE6PzIEgbdi"
   },
   "source": [
    "a. Select specific facilities and/or pollutants from this/these watershed(s).\n"
   ]
  },
  {
   "cell_type": "code",
   "execution_count": null,
   "metadata": {
    "id": "AxXjyufKgl7W"
   },
   "outputs": [],
   "source": [
    "data.add(\"2020 Discharge Monitoring\") # Adds the requisite data if it's not already added\n",
    "\n",
    "facility_list = list(data.results[\"2020 Discharge Monitoring\"][ 'FAC_NAME' ].unique())\n",
    "facility_list.sort()\n",
    "facility_widget = widgets.SelectMultiple(\n",
    "    options = facility_list,\n",
    "    description='Facility:',\n",
    "    disabled=False,\n",
    ")\n",
    "display(facility_widget)\n",
    "param_list = list(data.results[\"2020 Discharge Monitoring\"][ 'PARAMETER_DESC' ].unique())\n",
    "param_list.sort()\n",
    "param_widget = widgets.SelectMultiple(\n",
    "    options = param_list,\n",
    "    description = 'Parameter:',\n",
    "    disabled = False\n",
    ")\n",
    "display(param_widget)\n",
    "display(visualization)"
   ]
  },
  {
   "cell_type": "markdown",
   "metadata": {
    "id": "qxH7hh0giGeS"
   },
   "source": [
    "b. Show the chart type for the data you selected! \n",
    "\n",
    "\n",
    "**If you're displaying a map of a particular pollutant**, the orange circles indicate facilities that have reported on that pollutant. The black dots indicate other facilities in the watershed that report under the CWA but haven't reported on the pollutant. Finally, the size of the orange circle corresponds to the number of reports. For example, a facility that has submitted 100 reports on benzene discharges would be represented by a larger orange circle than the a faciity that submitted 10 reports."
   ]
  },
  {
   "cell_type": "code",
   "execution_count": null,
   "metadata": {
    "id": "xOd-HYy9iHl7"
   },
   "outputs": [],
   "source": [
    "data.results[\"2020 DMR Filtered\"] = data.results[\"2020 Discharge Monitoring\"]\n",
    "\n",
    "if (len(facility_widget.value) == 0): # if no facilities actually selected, select all\n",
    "  facility_widget.value = facility_list\n",
    "if (len(param_widget.value) == 0): # if no parameters actually selected, select all\n",
    "  param_widget.value = param_list\n",
    "data.results[\"2020 DMR Filtered\"] = data.results[\"2020 DMR Filtered\"].loc[(\n",
    "    data.results[\"2020 DMR Filtered\"][ 'FAC_NAME' ].isin(facility_widget.value) & \n",
    "    data.results[\"2020 DMR Filtered\"][ 'PARAMETER_DESC' ].isin(param_widget.value))]\n",
    "\n",
    "# Create a custom-named program table \"2020 DMR Filtered\" for the Echo class based on the 2020 Discharge Monitoring table\n",
    "presets.attribute_tables[\"2020 DMR Filtered\"] = presets.attribute_tables[\"2020 Discharge Monitoring\"]\n",
    "\n",
    "if visualization.value == \"Map\":\n",
    "  data.show_program_map(\"2020 DMR Filtered\")\n",
    "elif visualization.value == \"Chart\":\n",
    "  data.show_chart(\"2020 DMR Filtered\")\n",
    "elif visualization.value == \"Table\":\n",
    "  data.show_data(\"2020 DMR Filtered\")"
   ]
  },
  {
   "cell_type": "markdown",
   "metadata": {
    "id": "LoGMWxr8d_yn"
   },
   "source": [
    "c. In this cell you may save the Step 7 data to your computer.\n",
    "After running it, you can access your files by clicking on the 'Files' tab in the menu on the left-hand side of the notebook (it looks like a folder). You may have to hit 'Refresh' if you don't see your file. Then, you can click on the ... next to your file and choose \"Download\". The CSV spreadsheet will download to wherever your browser usually saves files (e.g. Downloads folder)"
   ]
  },
  {
   "cell_type": "code",
   "execution_count": null,
   "metadata": {
    "id": "JYROLGAlddL6"
   },
   "outputs": [],
   "source": [
    "if ( len( data.results[\"2020 DMR Filtered\"] ) > 0 ):\n",
    "  write_dataset( df=data.results[\"2020 DMR Filtered\"], base=\"2020 DMR Filtered\", type=region.value, state=\"\", region=region.value )\n",
    "else:\n",
    "  print( \"There is no data available to save.\" )"
   ]
  },
  {
   "cell_type": "markdown",
   "metadata": {
    "id": "suz8vIZI5W0Y"
   },
   "source": [
    "# Appendix: Other Use Cases\n",
    "\n",
    "Additional features which are in the works! "
   ]
  },
  {
   "cell_type": "code",
   "execution_count": null,
   "metadata": {
    "id": "DTJk6uNw5WLF"
   },
   "outputs": [],
   "source": [
    "#Map facilities in multiple watersheds\n",
    "#this_watersheds = Echo([\"07080208\", \"07080105\"], \"HUC8 Watersheds\")\n",
    "\n",
    "#this_watersheds.add(\"CWA Penalties\")\n",
    "#this_watersheds.show_program_map(\"CWA Penalties\")\n",
    "#this_watersheds.show_chart(\"CWA Penalties\")\n",
    "\n",
    "#this_watersheds.add(\"CWA Violations\")\n",
    "#this_watersheds.show_program_map(\"CWA Violations\")\n",
    "#this_watersheds.show_chart(\"CWA Violations\")\n",
    "\n",
    "# Multiple zip codes show map\n",
    "#zips = Echo([14303,14207,14219], \"Zip Codes\", [\"CWA Violations\"])\n",
    "#zips.show_facility_map()\n",
    "\n",
    "# Huc(s) that intersect with zipcodes\n",
    "#hucs = Echo([14303,14207,14219], \"HUC10 Watersheds\", [\"CWA Violations\"], intersection=True, intersecting_geo=\"Zip Codes\")\n",
    "#huc = Echo([14303], \"HUC10 Watersheds\", [\"CWA Violations\"], intersection=True, intersecting_geo=\"Zip Codes\")\n",
    "# Read this as, get the HUC10 watersheds and their CWA violations that intersect with this/these zip code/s\n",
    "#huc.show_program_map(\"CWA Violations\")\n",
    "#huc.show_top_violators(\"CWA\", 20)\n",
    "\n",
    "\"\"\"\n",
    "Zips of interest\n",
    "14303 (Niagara Falls along the Niagara River – industrial corridor ) = 04270101\n",
    "14207 (Black Rock/Scajaquada Creek) = 04270101\n",
    "14219 (South towns, Woodlawn Beach) = '04120103', '04260000' (Lake Erie?)\n",
    "\"\"\"\n",
    "\n",
    "# Getting no program data at first and then adding Effluent Violations\n",
    "zip = Echo(['02150'], \"Zip Codes\")\n",
    "zip.add(\"Effluent Violations\")\n",
    "zip.show_data(\"Effluent Violations\")"
   ]
  },
  {
   "cell_type": "code",
   "execution_count": null,
   "metadata": {
    "id": "DlNM1PlTm305"
   },
   "outputs": [],
   "source": [
    "zip.show_facility_map()"
   ]
  },
  {
   "cell_type": "code",
   "execution_count": null,
   "metadata": {
    "id": "WAwM8n9FU8gH"
   },
   "outputs": [],
   "source": []
  }
 ],
 "metadata": {
  "colab": {
   "collapsed_sections": [],
   "name": " ECHO_Watershed",
   "provenance": []
  },
  "kernelspec": {
   "display_name": "Python 3",
   "language": "python",
   "name": "python3"
  },
  "language_info": {
   "codemirror_mode": {
    "name": "ipython",
    "version": 3
   },
   "file_extension": ".py",
   "mimetype": "text/x-python",
   "name": "python",
   "nbconvert_exporter": "python",
   "pygments_lexer": "ipython3",
   "version": "3.8.5"
  }
 },
 "nbformat": 4,
 "nbformat_minor": 1
}
